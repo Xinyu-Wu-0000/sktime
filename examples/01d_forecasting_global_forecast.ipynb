{
 "cells": [
  {
   "cell_type": "markdown",
   "metadata": {},
   "source": [
    "# Global Forecasting with `sktime`"
   ]
  },
  {
   "cell_type": "markdown",
   "metadata": {},
   "source": [
    "### Overview of this notebook\n",
    "\n",
    "* introduction - global forecasting\n",
    "* global forecast without exogeneous data\n",
    "* global forecast with exogeneous data"
   ]
  },
  {
   "cell_type": "code",
   "execution_count": 6,
   "metadata": {},
   "outputs": [
    {
     "name": "stdout",
     "output_type": "stream",
     "text": [
      "Requirement already satisfied: pytorch_forecasting==1.0.0 in /home/xinyu/Documents/sktime/env/lib/python3.10/site-packages (1.0.0)\n",
      "Requirement already satisfied: fastapi>=0.80 in /home/xinyu/Documents/sktime/env/lib/python3.10/site-packages (from pytorch_forecasting==1.0.0) (0.110.0)\n",
      "Requirement already satisfied: lightning<3.0.0,>=2.0.0 in /home/xinyu/Documents/sktime/env/lib/python3.10/site-packages (from pytorch_forecasting==1.0.0) (2.2.1)\n",
      "Requirement already satisfied: matplotlib in /home/xinyu/Documents/sktime/env/lib/python3.10/site-packages (from pytorch_forecasting==1.0.0) (3.8.3)\n",
      "Requirement already satisfied: optuna<4.0.0,>=3.1.0 in /home/xinyu/Documents/sktime/env/lib/python3.10/site-packages (from pytorch_forecasting==1.0.0) (3.6.0)\n",
      "Requirement already satisfied: pandas<=3.0.0,>=1.3.0 in /home/xinyu/Documents/sktime/env/lib/python3.10/site-packages (from pytorch_forecasting==1.0.0) (2.2.1)\n",
      "Requirement already satisfied: pytorch-optimizer<3.0.0,>=2.5.1 in /home/xinyu/Documents/sktime/env/lib/python3.10/site-packages (from pytorch_forecasting==1.0.0) (2.12.0)\n",
      "Requirement already satisfied: scikit-learn<2.0,>=1.2 in /home/xinyu/Documents/sktime/env/lib/python3.10/site-packages (from pytorch_forecasting==1.0.0) (1.4.1.post1)\n",
      "Requirement already satisfied: scipy<2.0,>=1.8 in /home/xinyu/Documents/sktime/env/lib/python3.10/site-packages (from pytorch_forecasting==1.0.0) (1.12.0)\n",
      "Requirement already satisfied: statsmodels in /home/xinyu/Documents/sktime/env/lib/python3.10/site-packages (from pytorch_forecasting==1.0.0) (0.14.1)\n",
      "Requirement already satisfied: torch<3.0.0,>=2.0.0 in /home/xinyu/Documents/sktime/env/lib/python3.10/site-packages (from pytorch_forecasting==1.0.0) (2.2.1)\n",
      "Requirement already satisfied: pydantic!=1.8,!=1.8.1,!=2.0.0,!=2.0.1,!=2.1.0,<3.0.0,>=1.7.4 in /home/xinyu/Documents/sktime/env/lib/python3.10/site-packages (from fastapi>=0.80->pytorch_forecasting==1.0.0) (2.6.4)\n",
      "Requirement already satisfied: starlette<0.37.0,>=0.36.3 in /home/xinyu/Documents/sktime/env/lib/python3.10/site-packages (from fastapi>=0.80->pytorch_forecasting==1.0.0) (0.36.3)\n",
      "Requirement already satisfied: typing-extensions>=4.8.0 in /home/xinyu/Documents/sktime/env/lib/python3.10/site-packages (from fastapi>=0.80->pytorch_forecasting==1.0.0) (4.10.0)\n",
      "Requirement already satisfied: PyYAML<8.0,>=5.4 in /home/xinyu/Documents/sktime/env/lib/python3.10/site-packages (from lightning<3.0.0,>=2.0.0->pytorch_forecasting==1.0.0) (6.0.1)\n",
      "Requirement already satisfied: fsspec<2025.0,>=2022.5.0 in /home/xinyu/Documents/sktime/env/lib/python3.10/site-packages (from fsspec[http]<2025.0,>=2022.5.0->lightning<3.0.0,>=2.0.0->pytorch_forecasting==1.0.0) (2024.3.1)\n",
      "Requirement already satisfied: lightning-utilities<2.0,>=0.8.0 in /home/xinyu/Documents/sktime/env/lib/python3.10/site-packages (from lightning<3.0.0,>=2.0.0->pytorch_forecasting==1.0.0) (0.11.1)\n",
      "Requirement already satisfied: numpy<3.0,>=1.17.2 in /home/xinyu/Documents/sktime/env/lib/python3.10/site-packages (from lightning<3.0.0,>=2.0.0->pytorch_forecasting==1.0.0) (1.26.4)\n",
      "Requirement already satisfied: packaging<25.0,>=20.0 in /home/xinyu/Documents/sktime/env/lib/python3.10/site-packages (from lightning<3.0.0,>=2.0.0->pytorch_forecasting==1.0.0) (24.0)\n",
      "Requirement already satisfied: torchmetrics<3.0,>=0.7.0 in /home/xinyu/Documents/sktime/env/lib/python3.10/site-packages (from lightning<3.0.0,>=2.0.0->pytorch_forecasting==1.0.0) (1.3.2)\n",
      "Requirement already satisfied: tqdm<6.0,>=4.57.0 in /home/xinyu/Documents/sktime/env/lib/python3.10/site-packages (from lightning<3.0.0,>=2.0.0->pytorch_forecasting==1.0.0) (4.66.2)\n",
      "Requirement already satisfied: pytorch-lightning in /home/xinyu/Documents/sktime/env/lib/python3.10/site-packages (from lightning<3.0.0,>=2.0.0->pytorch_forecasting==1.0.0) (2.2.1)\n"
     ]
    },
    {
     "name": "stdout",
     "output_type": "stream",
     "text": [
      "Requirement already satisfied: alembic>=1.5.0 in /home/xinyu/Documents/sktime/env/lib/python3.10/site-packages (from optuna<4.0.0,>=3.1.0->pytorch_forecasting==1.0.0) (1.13.1)\n",
      "Requirement already satisfied: colorlog in /home/xinyu/Documents/sktime/env/lib/python3.10/site-packages (from optuna<4.0.0,>=3.1.0->pytorch_forecasting==1.0.0) (6.8.2)\n",
      "Requirement already satisfied: sqlalchemy>=1.3.0 in /home/xinyu/Documents/sktime/env/lib/python3.10/site-packages (from optuna<4.0.0,>=3.1.0->pytorch_forecasting==1.0.0) (2.0.29)\n",
      "Requirement already satisfied: python-dateutil>=2.8.2 in /home/xinyu/.local/lib/python3.10/site-packages (from pandas<=3.0.0,>=1.3.0->pytorch_forecasting==1.0.0) (2.9.0.post0)\n",
      "Requirement already satisfied: pytz>=2020.1 in /home/xinyu/Documents/sktime/env/lib/python3.10/site-packages (from pandas<=3.0.0,>=1.3.0->pytorch_forecasting==1.0.0) (2024.1)\n",
      "Requirement already satisfied: tzdata>=2022.7 in /home/xinyu/Documents/sktime/env/lib/python3.10/site-packages (from pandas<=3.0.0,>=1.3.0->pytorch_forecasting==1.0.0) (2024.1)\n",
      "Requirement already satisfied: joblib>=1.2.0 in /home/xinyu/.local/lib/python3.10/site-packages (from scikit-learn<2.0,>=1.2->pytorch_forecasting==1.0.0) (1.3.2)\n",
      "Requirement already satisfied: threadpoolctl>=2.0.0 in /home/xinyu/.local/lib/python3.10/site-packages (from scikit-learn<2.0,>=1.2->pytorch_forecasting==1.0.0) (3.3.0)\n",
      "Requirement already satisfied: filelock in /home/xinyu/Documents/sktime/env/lib/python3.10/site-packages (from torch<3.0.0,>=2.0.0->pytorch_forecasting==1.0.0) (3.13.3)\n",
      "Requirement already satisfied: sympy in /home/xinyu/Documents/sktime/env/lib/python3.10/site-packages (from torch<3.0.0,>=2.0.0->pytorch_forecasting==1.0.0) (1.12)\n",
      "Requirement already satisfied: networkx in /home/xinyu/Documents/sktime/env/lib/python3.10/site-packages (from torch<3.0.0,>=2.0.0->pytorch_forecasting==1.0.0) (3.2.1)\n",
      "Requirement already satisfied: jinja2 in /home/xinyu/Documents/sktime/env/lib/python3.10/site-packages (from torch<3.0.0,>=2.0.0->pytorch_forecasting==1.0.0) (3.1.3)\n",
      "Requirement already satisfied: nvidia-cuda-nvrtc-cu12==12.1.105 in /home/xinyu/Documents/sktime/env/lib/python3.10/site-packages (from torch<3.0.0,>=2.0.0->pytorch_forecasting==1.0.0) (12.1.105)\n",
      "Requirement already satisfied: nvidia-cuda-runtime-cu12==12.1.105 in /home/xinyu/Documents/sktime/env/lib/python3.10/site-packages (from torch<3.0.0,>=2.0.0->pytorch_forecasting==1.0.0) (12.1.105)\n",
      "Requirement already satisfied: nvidia-cuda-cupti-cu12==12.1.105 in /home/xinyu/Documents/sktime/env/lib/python3.10/site-packages (from torch<3.0.0,>=2.0.0->pytorch_forecasting==1.0.0) (12.1.105)\n",
      "Requirement already satisfied: nvidia-cudnn-cu12==8.9.2.26 in /home/xinyu/Documents/sktime/env/lib/python3.10/site-packages (from torch<3.0.0,>=2.0.0->pytorch_forecasting==1.0.0) (8.9.2.26)\n",
      "Requirement already satisfied: nvidia-cublas-cu12==12.1.3.1 in /home/xinyu/Documents/sktime/env/lib/python3.10/site-packages (from torch<3.0.0,>=2.0.0->pytorch_forecasting==1.0.0) (12.1.3.1)\n",
      "Requirement already satisfied: nvidia-cufft-cu12==11.0.2.54 in /home/xinyu/Documents/sktime/env/lib/python3.10/site-packages (from torch<3.0.0,>=2.0.0->pytorch_forecasting==1.0.0) (11.0.2.54)\n",
      "Requirement already satisfied: nvidia-curand-cu12==10.3.2.106 in /home/xinyu/Documents/sktime/env/lib/python3.10/site-packages (from torch<3.0.0,>=2.0.0->pytorch_forecasting==1.0.0) (10.3.2.106)\n",
      "Requirement already satisfied: nvidia-cusolver-cu12==11.4.5.107 in /home/xinyu/Documents/sktime/env/lib/python3.10/site-packages (from torch<3.0.0,>=2.0.0->pytorch_forecasting==1.0.0) (11.4.5.107)\n",
      "Requirement already satisfied: nvidia-cusparse-cu12==12.1.0.106 in /home/xinyu/Documents/sktime/env/lib/python3.10/site-packages (from torch<3.0.0,>=2.0.0->pytorch_forecasting==1.0.0) (12.1.0.106)\n",
      "Requirement already satisfied: nvidia-nccl-cu12==2.19.3 in /home/xinyu/Documents/sktime/env/lib/python3.10/site-packages (from torch<3.0.0,>=2.0.0->pytorch_forecasting==1.0.0) (2.19.3)\n",
      "Requirement already satisfied: nvidia-nvtx-cu12==12.1.105 in /home/xinyu/Documents/sktime/env/lib/python3.10/site-packages (from torch<3.0.0,>=2.0.0->pytorch_forecasting==1.0.0) (12.1.105)\n",
      "Requirement already satisfied: triton==2.2.0 in /home/xinyu/Documents/sktime/env/lib/python3.10/site-packages (from torch<3.0.0,>=2.0.0->pytorch_forecasting==1.0.0) (2.2.0)\n",
      "Requirement already satisfied: nvidia-nvjitlink-cu12 in /home/xinyu/Documents/sktime/env/lib/python3.10/site-packages (from nvidia-cusolver-cu12==11.4.5.107->torch<3.0.0,>=2.0.0->pytorch_forecasting==1.0.0) (12.4.99)\n",
      "Requirement already satisfied: contourpy>=1.0.1 in /home/xinyu/Documents/sktime/env/lib/python3.10/site-packages (from matplotlib->pytorch_forecasting==1.0.0) (1.2.0)\n",
      "Requirement already satisfied: cycler>=0.10 in /home/xinyu/Documents/sktime/env/lib/python3.10/site-packages (from matplotlib->pytorch_forecasting==1.0.0) (0.12.1)\n",
      "Requirement already satisfied: fonttools>=4.22.0 in /home/xinyu/Documents/sktime/env/lib/python3.10/site-packages (from matplotlib->pytorch_forecasting==1.0.0) (4.50.0)\n",
      "Requirement already satisfied: kiwisolver>=1.3.1 in /home/xinyu/Documents/sktime/env/lib/python3.10/site-packages (from matplotlib->pytorch_forecasting==1.0.0) (1.4.5)\n",
      "Requirement already satisfied: pillow>=8 in /home/xinyu/Documents/sktime/env/lib/python3.10/site-packages (from matplotlib->pytorch_forecasting==1.0.0) (10.2.0)\n",
      "Requirement already satisfied: pyparsing>=2.3.1 in /home/xinyu/Documents/sktime/env/lib/python3.10/site-packages (from matplotlib->pytorch_forecasting==1.0.0) (3.1.2)\n",
      "Requirement already satisfied: patsy>=0.5.4 in /home/xinyu/Documents/sktime/env/lib/python3.10/site-packages (from statsmodels->pytorch_forecasting==1.0.0) (0.5.6)\n",
      "Requirement already satisfied: Mako in /home/xinyu/Documents/sktime/env/lib/python3.10/site-packages (from alembic>=1.5.0->optuna<4.0.0,>=3.1.0->pytorch_forecasting==1.0.0) (1.3.2)\n",
      "Requirement already satisfied: aiohttp!=4.0.0a0,!=4.0.0a1 in /home/xinyu/Documents/sktime/env/lib/python3.10/site-packages (from fsspec[http]<2025.0,>=2022.5.0->lightning<3.0.0,>=2.0.0->pytorch_forecasting==1.0.0) (3.9.3)\n",
      "Requirement already satisfied: setuptools in /home/xinyu/Documents/sktime/env/lib/python3.10/site-packages (from lightning-utilities<2.0,>=0.8.0->lightning<3.0.0,>=2.0.0->pytorch_forecasting==1.0.0) (68.2.2)\n",
      "Requirement already satisfied: six in /home/xinyu/Documents/sktime/env/lib/python3.10/site-packages (from patsy>=0.5.4->statsmodels->pytorch_forecasting==1.0.0) (1.16.0)\n",
      "Requirement already satisfied: annotated-types>=0.4.0 in /home/xinyu/Documents/sktime/env/lib/python3.10/site-packages (from pydantic!=1.8,!=1.8.1,!=2.0.0,!=2.0.1,!=2.1.0,<3.0.0,>=1.7.4->fastapi>=0.80->pytorch_forecasting==1.0.0) (0.6.0)\n",
      "Requirement already satisfied: pydantic-core==2.16.3 in /home/xinyu/Documents/sktime/env/lib/python3.10/site-packages (from pydantic!=1.8,!=1.8.1,!=2.0.0,!=2.0.1,!=2.1.0,<3.0.0,>=1.7.4->fastapi>=0.80->pytorch_forecasting==1.0.0) (2.16.3)\n",
      "Requirement already satisfied: greenlet!=0.4.17 in /home/xinyu/Documents/sktime/env/lib/python3.10/site-packages (from sqlalchemy>=1.3.0->optuna<4.0.0,>=3.1.0->pytorch_forecasting==1.0.0) (3.0.3)\n",
      "Requirement already satisfied: anyio<5,>=3.4.0 in /home/xinyu/Documents/sktime/env/lib/python3.10/site-packages (from starlette<0.37.0,>=0.36.3->fastapi>=0.80->pytorch_forecasting==1.0.0) (4.3.0)\n",
      "Requirement already satisfied: MarkupSafe>=2.0 in /home/xinyu/Documents/sktime/env/lib/python3.10/site-packages (from jinja2->torch<3.0.0,>=2.0.0->pytorch_forecasting==1.0.0) (2.1.5)\n",
      "Requirement already satisfied: mpmath>=0.19 in /home/xinyu/Documents/sktime/env/lib/python3.10/site-packages (from sympy->torch<3.0.0,>=2.0.0->pytorch_forecasting==1.0.0) (1.3.0)\n",
      "Requirement already satisfied: aiosignal>=1.1.2 in /home/xinyu/Documents/sktime/env/lib/python3.10/site-packages (from aiohttp!=4.0.0a0,!=4.0.0a1->fsspec[http]<2025.0,>=2022.5.0->lightning<3.0.0,>=2.0.0->pytorch_forecasting==1.0.0) (1.3.1)\n",
      "Requirement already satisfied: attrs>=17.3.0 in /home/xinyu/Documents/sktime/env/lib/python3.10/site-packages (from aiohttp!=4.0.0a0,!=4.0.0a1->fsspec[http]<2025.0,>=2022.5.0->lightning<3.0.0,>=2.0.0->pytorch_forecasting==1.0.0) (23.2.0)\n",
      "Requirement already satisfied: frozenlist>=1.1.1 in /home/xinyu/Documents/sktime/env/lib/python3.10/site-packages (from aiohttp!=4.0.0a0,!=4.0.0a1->fsspec[http]<2025.0,>=2022.5.0->lightning<3.0.0,>=2.0.0->pytorch_forecasting==1.0.0) (1.4.1)\n",
      "Requirement already satisfied: multidict<7.0,>=4.5 in /home/xinyu/Documents/sktime/env/lib/python3.10/site-packages (from aiohttp!=4.0.0a0,!=4.0.0a1->fsspec[http]<2025.0,>=2022.5.0->lightning<3.0.0,>=2.0.0->pytorch_forecasting==1.0.0) (6.0.5)\n",
      "Requirement already satisfied: yarl<2.0,>=1.0 in /home/xinyu/Documents/sktime/env/lib/python3.10/site-packages (from aiohttp!=4.0.0a0,!=4.0.0a1->fsspec[http]<2025.0,>=2022.5.0->lightning<3.0.0,>=2.0.0->pytorch_forecasting==1.0.0) (1.9.4)\n",
      "Requirement already satisfied: async-timeout<5.0,>=4.0 in /home/xinyu/Documents/sktime/env/lib/python3.10/site-packages (from aiohttp!=4.0.0a0,!=4.0.0a1->fsspec[http]<2025.0,>=2022.5.0->lightning<3.0.0,>=2.0.0->pytorch_forecasting==1.0.0) (4.0.3)\n",
      "Requirement already satisfied: idna>=2.8 in /home/xinyu/Documents/sktime/env/lib/python3.10/site-packages (from anyio<5,>=3.4.0->starlette<0.37.0,>=0.36.3->fastapi>=0.80->pytorch_forecasting==1.0.0) (3.6)\n",
      "Requirement already satisfied: sniffio>=1.1 in /home/xinyu/Documents/sktime/env/lib/python3.10/site-packages (from anyio<5,>=3.4.0->starlette<0.37.0,>=0.36.3->fastapi>=0.80->pytorch_forecasting==1.0.0) (1.3.1)\n",
      "Requirement already satisfied: exceptiongroup>=1.0.2 in /home/xinyu/Documents/sktime/env/lib/python3.10/site-packages (from anyio<5,>=3.4.0->starlette<0.37.0,>=0.36.3->fastapi>=0.80->pytorch_forecasting==1.0.0) (1.2.0)\n"
     ]
    }
   ],
   "source": [
    "import warnings\n",
    "\n",
    "warnings.filterwarnings(\"ignore\")\n",
    "\n",
    "import sys\n",
    "\n",
    "py_exe = sys.executable\n",
    "!{py_exe} -m pip install pytorch_forecasting==1.0.0"
   ]
  },
  {
   "cell_type": "markdown",
   "metadata": {},
   "source": [
    "### What is global forecast?"
   ]
  },
  {
   "cell_type": "markdown",
   "metadata": {},
   "source": [
    "A lot of deep learning models will train on large dataset with many time series from many instances and predict on time series from other instances beyond training data. The ability to train on many series and predict beyond training data is called global forecast.\n",
    "\n",
    "You have a training dataset containing $n$ time series $\\{x_{i_1}, x_{i_2}, x_{i_3}, ..., x_{i_n}\\}$ on which the forecaster is trained. During inference you have a set of $m$ time series, whereby $m$ need not be equal to $n$. And where there might or might not be intersection between the sets $\\{i_1,.., i_n\\}$ and $\\{j_1, ... j_m\\}$. For this set of time series $\\{x_{j_1}, x_{j_2}, x_{j_3}, ..., x_{j_m}\\}$ we then aim to provide forecasts."
   ]
  },
  {
   "cell_type": "markdown",
   "metadata": {},
   "source": [
    "To check the global forecast ability of one forecaster in sktime, you can check the `capability:global_forecasting` tag."
   ]
  },
  {
   "cell_type": "code",
   "execution_count": 137,
   "metadata": {},
   "outputs": [
    {
     "data": {
      "text/plain": [
       "True"
      ]
     },
     "execution_count": 137,
     "metadata": {},
     "output_type": "execute_result"
    }
   ],
   "source": [
    "from sktime.forecasting.pytorchforecasting import PytorchForecastingDeepAR\n",
    "\n",
    "PytorchForecastingDeepAR().get_tag(\n",
    "    \"capability:global_forecasting\"\n",
    ")  # should return True"
   ]
  },
  {
   "cell_type": "markdown",
   "metadata": {},
   "source": [
    "### Global Forecast without exogeneous data"
   ]
  },
  {
   "cell_type": "markdown",
   "metadata": {},
   "source": [
    "You can pass $n$ series of `y` to `fit` and then predict on other $m$ series different from data in training. "
   ]
  },
  {
   "cell_type": "markdown",
   "metadata": {},
   "source": [
    "First we generate 500 series for training and 50 series to predict."
   ]
  },
  {
   "cell_type": "code",
   "execution_count": 138,
   "metadata": {},
   "outputs": [
    {
     "data": {
      "text/html": [
       "<div>\n",
       "<style scoped>\n",
       "    .dataframe tbody tr th:only-of-type {\n",
       "        vertical-align: middle;\n",
       "    }\n",
       "\n",
       "    .dataframe tbody tr th {\n",
       "        vertical-align: top;\n",
       "    }\n",
       "\n",
       "    .dataframe thead th {\n",
       "        text-align: right;\n",
       "    }\n",
       "</style>\n",
       "<table border=\"1\" class=\"dataframe\">\n",
       "  <thead>\n",
       "    <tr style=\"text-align: right;\">\n",
       "      <th></th>\n",
       "      <th></th>\n",
       "      <th></th>\n",
       "      <th>c0</th>\n",
       "    </tr>\n",
       "    <tr>\n",
       "      <th>h0</th>\n",
       "      <th>h1</th>\n",
       "      <th>time</th>\n",
       "      <th></th>\n",
       "    </tr>\n",
       "  </thead>\n",
       "  <tbody>\n",
       "    <tr>\n",
       "      <th rowspan=\"12\" valign=\"top\">h0_0</th>\n",
       "      <th rowspan=\"10\" valign=\"top\">h1_0</th>\n",
       "      <th>2000-01-01</th>\n",
       "      <td>5.344600</td>\n",
       "    </tr>\n",
       "    <tr>\n",
       "      <th>2000-01-02</th>\n",
       "      <td>5.385130</td>\n",
       "    </tr>\n",
       "    <tr>\n",
       "      <th>2000-01-03</th>\n",
       "      <td>4.567360</td>\n",
       "    </tr>\n",
       "    <tr>\n",
       "      <th>2000-01-04</th>\n",
       "      <td>5.285690</td>\n",
       "    </tr>\n",
       "    <tr>\n",
       "      <th>2000-01-05</th>\n",
       "      <td>6.129614</td>\n",
       "    </tr>\n",
       "    <tr>\n",
       "      <th>2000-01-06</th>\n",
       "      <td>3.811422</td>\n",
       "    </tr>\n",
       "    <tr>\n",
       "      <th>2000-01-07</th>\n",
       "      <td>6.220975</td>\n",
       "    </tr>\n",
       "    <tr>\n",
       "      <th>2000-01-08</th>\n",
       "      <td>3.488888</td>\n",
       "    </tr>\n",
       "    <tr>\n",
       "      <th>2000-01-09</th>\n",
       "      <td>3.589005</td>\n",
       "    </tr>\n",
       "    <tr>\n",
       "      <th>2000-01-10</th>\n",
       "      <td>5.958409</td>\n",
       "    </tr>\n",
       "    <tr>\n",
       "      <th rowspan=\"2\" valign=\"top\">h1_1</th>\n",
       "      <th>2000-01-01</th>\n",
       "      <td>5.201764</td>\n",
       "    </tr>\n",
       "    <tr>\n",
       "      <th>2000-01-02</th>\n",
       "      <td>6.107488</td>\n",
       "    </tr>\n",
       "  </tbody>\n",
       "</table>\n",
       "</div>"
      ],
      "text/plain": [
       "                            c0\n",
       "h0   h1   time                \n",
       "h0_0 h1_0 2000-01-01  5.344600\n",
       "          2000-01-02  5.385130\n",
       "          2000-01-03  4.567360\n",
       "          2000-01-04  5.285690\n",
       "          2000-01-05  6.129614\n",
       "          2000-01-06  3.811422\n",
       "          2000-01-07  6.220975\n",
       "          2000-01-08  3.488888\n",
       "          2000-01-09  3.589005\n",
       "          2000-01-10  5.958409\n",
       "     h1_1 2000-01-01  5.201764\n",
       "          2000-01-02  6.107488"
      ]
     },
     "execution_count": 138,
     "metadata": {},
     "output_type": "execute_result"
    }
   ],
   "source": [
    "from sktime.utils._testing.hierarchical import _make_hierarchical\n",
    "\n",
    "data = _make_hierarchical(\n",
    "    hierarchy_levels=(5, 110), max_timepoints=10, min_timepoints=10, n_columns=1\n",
    ")\n",
    "l1 = data.index.get_level_values(1).map(lambda x: int(x[3:]))\n",
    "y_train = data.loc[l1 < 100, \"c0\"].to_frame()\n",
    "y_train.head(12)"
   ]
  },
  {
   "cell_type": "markdown",
   "metadata": {},
   "source": [
    "`y_test` is the series we want to predict on which contains all historical values."
   ]
  },
  {
   "cell_type": "code",
   "execution_count": 139,
   "metadata": {},
   "outputs": [
    {
     "data": {
      "text/html": [
       "<div>\n",
       "<style scoped>\n",
       "    .dataframe tbody tr th:only-of-type {\n",
       "        vertical-align: middle;\n",
       "    }\n",
       "\n",
       "    .dataframe tbody tr th {\n",
       "        vertical-align: top;\n",
       "    }\n",
       "\n",
       "    .dataframe thead th {\n",
       "        text-align: right;\n",
       "    }\n",
       "</style>\n",
       "<table border=\"1\" class=\"dataframe\">\n",
       "  <thead>\n",
       "    <tr style=\"text-align: right;\">\n",
       "      <th></th>\n",
       "      <th></th>\n",
       "      <th></th>\n",
       "      <th>c0</th>\n",
       "    </tr>\n",
       "    <tr>\n",
       "      <th>h0</th>\n",
       "      <th>h1</th>\n",
       "      <th>time</th>\n",
       "      <th></th>\n",
       "    </tr>\n",
       "  </thead>\n",
       "  <tbody>\n",
       "    <tr>\n",
       "      <th rowspan=\"12\" valign=\"top\">h0_0</th>\n",
       "      <th rowspan=\"10\" valign=\"top\">h1_100</th>\n",
       "      <th>2000-01-01</th>\n",
       "      <td>5.384317</td>\n",
       "    </tr>\n",
       "    <tr>\n",
       "      <th>2000-01-02</th>\n",
       "      <td>3.512209</td>\n",
       "    </tr>\n",
       "    <tr>\n",
       "      <th>2000-01-03</th>\n",
       "      <td>5.237926</td>\n",
       "    </tr>\n",
       "    <tr>\n",
       "      <th>2000-01-04</th>\n",
       "      <td>4.629527</td>\n",
       "    </tr>\n",
       "    <tr>\n",
       "      <th>2000-01-05</th>\n",
       "      <td>2.613302</td>\n",
       "    </tr>\n",
       "    <tr>\n",
       "      <th>2000-01-06</th>\n",
       "      <td>3.792649</td>\n",
       "    </tr>\n",
       "    <tr>\n",
       "      <th>2000-01-07</th>\n",
       "      <td>6.054258</td>\n",
       "    </tr>\n",
       "    <tr>\n",
       "      <th>2000-01-08</th>\n",
       "      <td>4.583076</td>\n",
       "    </tr>\n",
       "    <tr>\n",
       "      <th>2000-01-09</th>\n",
       "      <td>4.968127</td>\n",
       "    </tr>\n",
       "    <tr>\n",
       "      <th>2000-01-10</th>\n",
       "      <td>4.640431</td>\n",
       "    </tr>\n",
       "    <tr>\n",
       "      <th rowspan=\"2\" valign=\"top\">h1_101</th>\n",
       "      <th>2000-01-01</th>\n",
       "      <td>5.654314</td>\n",
       "    </tr>\n",
       "    <tr>\n",
       "      <th>2000-01-02</th>\n",
       "      <td>4.381005</td>\n",
       "    </tr>\n",
       "  </tbody>\n",
       "</table>\n",
       "</div>"
      ],
      "text/plain": [
       "                              c0\n",
       "h0   h1     time                \n",
       "h0_0 h1_100 2000-01-01  5.384317\n",
       "            2000-01-02  3.512209\n",
       "            2000-01-03  5.237926\n",
       "            2000-01-04  4.629527\n",
       "            2000-01-05  2.613302\n",
       "            2000-01-06  3.792649\n",
       "            2000-01-07  6.054258\n",
       "            2000-01-08  4.583076\n",
       "            2000-01-09  4.968127\n",
       "            2000-01-10  4.640431\n",
       "     h1_101 2000-01-01  5.654314\n",
       "            2000-01-02  4.381005"
      ]
     },
     "execution_count": 139,
     "metadata": {},
     "output_type": "execute_result"
    }
   ],
   "source": [
    "y_test = data.loc[l1 >= 100, \"c0\"].to_frame()\n",
    "y_test.head(12)"
   ]
  },
  {
   "cell_type": "markdown",
   "metadata": {},
   "source": [
    "Then we initialize a model to fit the data."
   ]
  },
  {
   "cell_type": "code",
   "execution_count": 140,
   "metadata": {},
   "outputs": [
    {
     "name": "stdout",
     "output_type": "stream",
     "text": [
      "PytorchForecastingNBeats(dataset_params={'max_encoder_length': 3},\n",
      "                         trainer_params={'limit_train_batches': 50,\n",
      "                                         'max_epochs': 5})\n"
     ]
    }
   ],
   "source": [
    "from sktime.forecasting.pytorchforecasting import PytorchForecastingNBeats\n",
    "\n",
    "model = PytorchForecastingNBeats(\n",
    "    trainer_params={\n",
    "        \"max_epochs\": 5,  # for quick test\n",
    "        \"limit_train_batches\": 50,  # for quick test\n",
    "    },\n",
    "    dataset_params={\n",
    "        \"max_encoder_length\": 3,\n",
    "    },\n",
    ")\n",
    "print(model)"
   ]
  },
  {
   "cell_type": "code",
   "execution_count": 141,
   "metadata": {},
   "outputs": [
    {
     "name": "stderr",
     "output_type": "stream",
     "text": [
      "GPU available: True (cuda), used: True\n",
      "TPU available: False, using: 0 TPU cores\n",
      "IPU available: False, using: 0 IPUs\n",
      "HPU available: False, using: 0 HPUs\n",
      "LOCAL_RANK: 0 - CUDA_VISIBLE_DEVICES: [0]\n",
      "\n",
      "  | Name            | Type       | Params\n",
      "-----------------------------------------------\n",
      "0 | loss            | MASE       | 0     \n",
      "1 | logging_metrics | ModuleList | 0     \n",
      "2 | net_blocks      | ModuleList | 1.6 M \n",
      "-----------------------------------------------\n",
      "1.6 M     Trainable params\n",
      "0         Non-trainable params\n",
      "1.6 M     Total params\n",
      "6.375     Total estimated model params size (MB)\n"
     ]
    },
    {
     "name": "stdout",
     "output_type": "stream",
     "text": [
      "Epoch 4: 100%|██████████| 15/15 [00:00<00:00, 31.62it/s, v_num=21, train_loss_step=0.904, val_loss=0.969, train_loss_epoch=0.958]"
     ]
    },
    {
     "name": "stderr",
     "output_type": "stream",
     "text": [
      "`Trainer.fit` stopped: `max_epochs=5` reached.\n"
     ]
    },
    {
     "name": "stdout",
     "output_type": "stream",
     "text": [
      "Epoch 4: 100%|██████████| 15/15 [00:00<00:00, 29.34it/s, v_num=21, train_loss_step=0.904, val_loss=0.969, train_loss_epoch=0.958]\n"
     ]
    },
    {
     "data": {
      "text/html": [
       "<style>#sk-39e716c3-6c90-4fe5-a205-8d89175b7c12 {color: black;background-color: white;}#sk-39e716c3-6c90-4fe5-a205-8d89175b7c12 pre{padding: 0;}#sk-39e716c3-6c90-4fe5-a205-8d89175b7c12 div.sk-toggleable {background-color: white;}#sk-39e716c3-6c90-4fe5-a205-8d89175b7c12 label.sk-toggleable__label {cursor: pointer;display: block;width: 100%;margin-bottom: 0;padding: 0.3em;box-sizing: border-box;text-align: center;}#sk-39e716c3-6c90-4fe5-a205-8d89175b7c12 label.sk-toggleable__label-arrow:before {content: \"▸\";float: left;margin-right: 0.25em;color: #696969;}#sk-39e716c3-6c90-4fe5-a205-8d89175b7c12 label.sk-toggleable__label-arrow:hover:before {color: black;}#sk-39e716c3-6c90-4fe5-a205-8d89175b7c12 div.sk-estimator:hover label.sk-toggleable__label-arrow:before {color: black;}#sk-39e716c3-6c90-4fe5-a205-8d89175b7c12 div.sk-toggleable__content {max-height: 0;max-width: 0;overflow: hidden;text-align: left;background-color: #f0f8ff;}#sk-39e716c3-6c90-4fe5-a205-8d89175b7c12 div.sk-toggleable__content pre {margin: 0.2em;color: black;border-radius: 0.25em;background-color: #f0f8ff;}#sk-39e716c3-6c90-4fe5-a205-8d89175b7c12 input.sk-toggleable__control:checked~div.sk-toggleable__content {max-height: 200px;max-width: 100%;overflow: auto;}#sk-39e716c3-6c90-4fe5-a205-8d89175b7c12 input.sk-toggleable__control:checked~label.sk-toggleable__label-arrow:before {content: \"▾\";}#sk-39e716c3-6c90-4fe5-a205-8d89175b7c12 div.sk-estimator input.sk-toggleable__control:checked~label.sk-toggleable__label {background-color: #d4ebff;}#sk-39e716c3-6c90-4fe5-a205-8d89175b7c12 div.sk-label input.sk-toggleable__control:checked~label.sk-toggleable__label {background-color: #d4ebff;}#sk-39e716c3-6c90-4fe5-a205-8d89175b7c12 input.sk-hidden--visually {border: 0;clip: rect(1px 1px 1px 1px);clip: rect(1px, 1px, 1px, 1px);height: 1px;margin: -1px;overflow: hidden;padding: 0;position: absolute;width: 1px;}#sk-39e716c3-6c90-4fe5-a205-8d89175b7c12 div.sk-estimator {font-family: monospace;background-color: #f0f8ff;border: 1px dotted black;border-radius: 0.25em;box-sizing: border-box;margin-bottom: 0.5em;}#sk-39e716c3-6c90-4fe5-a205-8d89175b7c12 div.sk-estimator:hover {background-color: #d4ebff;}#sk-39e716c3-6c90-4fe5-a205-8d89175b7c12 div.sk-parallel-item::after {content: \"\";width: 100%;border-bottom: 1px solid gray;flex-grow: 1;}#sk-39e716c3-6c90-4fe5-a205-8d89175b7c12 div.sk-label:hover label.sk-toggleable__label {background-color: #d4ebff;}#sk-39e716c3-6c90-4fe5-a205-8d89175b7c12 div.sk-serial::before {content: \"\";position: absolute;border-left: 1px solid gray;box-sizing: border-box;top: 2em;bottom: 0;left: 50%;}#sk-39e716c3-6c90-4fe5-a205-8d89175b7c12 div.sk-serial {display: flex;flex-direction: column;align-items: center;background-color: white;padding-right: 0.2em;padding-left: 0.2em;}#sk-39e716c3-6c90-4fe5-a205-8d89175b7c12 div.sk-item {z-index: 1;}#sk-39e716c3-6c90-4fe5-a205-8d89175b7c12 div.sk-parallel {display: flex;align-items: stretch;justify-content: center;background-color: white;}#sk-39e716c3-6c90-4fe5-a205-8d89175b7c12 div.sk-parallel::before {content: \"\";position: absolute;border-left: 1px solid gray;box-sizing: border-box;top: 2em;bottom: 0;left: 50%;}#sk-39e716c3-6c90-4fe5-a205-8d89175b7c12 div.sk-parallel-item {display: flex;flex-direction: column;position: relative;background-color: white;}#sk-39e716c3-6c90-4fe5-a205-8d89175b7c12 div.sk-parallel-item:first-child::after {align-self: flex-end;width: 50%;}#sk-39e716c3-6c90-4fe5-a205-8d89175b7c12 div.sk-parallel-item:last-child::after {align-self: flex-start;width: 50%;}#sk-39e716c3-6c90-4fe5-a205-8d89175b7c12 div.sk-parallel-item:only-child::after {width: 0;}#sk-39e716c3-6c90-4fe5-a205-8d89175b7c12 div.sk-dashed-wrapped {border: 1px dashed gray;margin: 0 0.4em 0.5em 0.4em;box-sizing: border-box;padding-bottom: 0.4em;background-color: white;position: relative;}#sk-39e716c3-6c90-4fe5-a205-8d89175b7c12 div.sk-label label {font-family: monospace;font-weight: bold;background-color: white;display: inline-block;line-height: 1.2em;}#sk-39e716c3-6c90-4fe5-a205-8d89175b7c12 div.sk-label-container {position: relative;z-index: 2;text-align: center;}#sk-39e716c3-6c90-4fe5-a205-8d89175b7c12 div.sk-container {/* jupyter's `normalize.less` sets `[hidden] { display: none; }` but bootstrap.min.css set `[hidden] { display: none !important; }` so we also need the `!important` here to be able to override the default hidden behavior on the sphinx rendered scikit-learn.org. See: https://github.com/scikit-learn/scikit-learn/issues/21755 */display: inline-block !important;position: relative;}#sk-39e716c3-6c90-4fe5-a205-8d89175b7c12 div.sk-text-repr-fallback {display: none;}</style><div id='sk-39e716c3-6c90-4fe5-a205-8d89175b7c12' class=\"sk-top-container\"><div class=\"sk-text-repr-fallback\"><pre>PytorchForecastingNBeats(dataset_params={&#x27;max_encoder_length&#x27;: 3},\n",
       "                         trainer_params={&#x27;limit_train_batches&#x27;: 50,\n",
       "                                         &#x27;max_epochs&#x27;: 5})</pre><b>Please rerun this cell to show the HTML repr or trust the notebook.</b></div><div class=\"sk-container\" hidden><div class='sk-item'><div class=\"sk-estimator sk-toggleable\"><input class=\"sk-toggleable__control sk-hidden--visually\" id=UUID('52734178-a8a3-4283-8918-f3fb630533eb') type=\"checkbox\" checked><label for=UUID('52734178-a8a3-4283-8918-f3fb630533eb') class='sk-toggleable__label sk-toggleable__label-arrow'>PytorchForecastingNBeats</label><div class=\"sk-toggleable__content\"><pre>PytorchForecastingNBeats(dataset_params={&#x27;max_encoder_length&#x27;: 3},\n",
       "                         trainer_params={&#x27;limit_train_batches&#x27;: 50,\n",
       "                                         &#x27;max_epochs&#x27;: 5})</pre></div></div></div></div></div>"
      ],
      "text/plain": [
       "PytorchForecastingNBeats(dataset_params={'max_encoder_length': 3},\n",
       "                         trainer_params={'limit_train_batches': 50,\n",
       "                                         'max_epochs': 5})"
      ]
     },
     "execution_count": 141,
     "metadata": {},
     "output_type": "execute_result"
    }
   ],
   "source": [
    "from sktime.forecasting.base import ForecastingHorizon\n",
    "\n",
    "fh = ForecastingHorizon([1, 2, 3], is_relative=True)\n",
    "model.fit(y=y_train, fh=fh)"
   ]
  },
  {
   "cell_type": "markdown",
   "metadata": {},
   "source": [
    "Then we can predict on `y_test` which not included in `y_train`."
   ]
  },
  {
   "cell_type": "code",
   "execution_count": 142,
   "metadata": {},
   "outputs": [
    {
     "name": "stderr",
     "output_type": "stream",
     "text": [
      "GPU available: True (cuda), used: True\n",
      "TPU available: False, using: 0 TPU cores\n",
      "IPU available: False, using: 0 IPUs\n",
      "HPU available: False, using: 0 HPUs\n",
      "LOCAL_RANK: 0 - CUDA_VISIBLE_DEVICES: [0]\n"
     ]
    },
    {
     "data": {
      "text/html": [
       "<div>\n",
       "<style scoped>\n",
       "    .dataframe tbody tr th:only-of-type {\n",
       "        vertical-align: middle;\n",
       "    }\n",
       "\n",
       "    .dataframe tbody tr th {\n",
       "        vertical-align: top;\n",
       "    }\n",
       "\n",
       "    .dataframe thead th {\n",
       "        text-align: right;\n",
       "    }\n",
       "</style>\n",
       "<table border=\"1\" class=\"dataframe\">\n",
       "  <thead>\n",
       "    <tr style=\"text-align: right;\">\n",
       "      <th></th>\n",
       "      <th></th>\n",
       "      <th></th>\n",
       "      <th>c0</th>\n",
       "    </tr>\n",
       "    <tr>\n",
       "      <th>h0</th>\n",
       "      <th>h1</th>\n",
       "      <th>time</th>\n",
       "      <th></th>\n",
       "    </tr>\n",
       "  </thead>\n",
       "  <tbody>\n",
       "    <tr>\n",
       "      <th rowspan=\"10\" valign=\"top\">h0_0</th>\n",
       "      <th rowspan=\"3\" valign=\"top\">h1_100</th>\n",
       "      <th>2000-01-11</th>\n",
       "      <td>4.840083</td>\n",
       "    </tr>\n",
       "    <tr>\n",
       "      <th>2000-01-12</th>\n",
       "      <td>4.977394</td>\n",
       "    </tr>\n",
       "    <tr>\n",
       "      <th>2000-01-13</th>\n",
       "      <td>5.064647</td>\n",
       "    </tr>\n",
       "    <tr>\n",
       "      <th rowspan=\"3\" valign=\"top\">h1_101</th>\n",
       "      <th>2000-01-11</th>\n",
       "      <td>5.140816</td>\n",
       "    </tr>\n",
       "    <tr>\n",
       "      <th>2000-01-12</th>\n",
       "      <td>5.251262</td>\n",
       "    </tr>\n",
       "    <tr>\n",
       "      <th>2000-01-13</th>\n",
       "      <td>5.325297</td>\n",
       "    </tr>\n",
       "    <tr>\n",
       "      <th rowspan=\"3\" valign=\"top\">h1_102</th>\n",
       "      <th>2000-01-11</th>\n",
       "      <td>4.864258</td>\n",
       "    </tr>\n",
       "    <tr>\n",
       "      <th>2000-01-12</th>\n",
       "      <td>5.040134</td>\n",
       "    </tr>\n",
       "    <tr>\n",
       "      <th>2000-01-13</th>\n",
       "      <td>5.150998</td>\n",
       "    </tr>\n",
       "    <tr>\n",
       "      <th>h1_103</th>\n",
       "      <th>2000-01-11</th>\n",
       "      <td>5.007406</td>\n",
       "    </tr>\n",
       "  </tbody>\n",
       "</table>\n",
       "</div>"
      ],
      "text/plain": [
       "                              c0\n",
       "h0   h1     time                \n",
       "h0_0 h1_100 2000-01-11  4.840083\n",
       "            2000-01-12  4.977394\n",
       "            2000-01-13  5.064647\n",
       "     h1_101 2000-01-11  5.140816\n",
       "            2000-01-12  5.251262\n",
       "            2000-01-13  5.325297\n",
       "     h1_102 2000-01-11  4.864258\n",
       "            2000-01-12  5.040134\n",
       "            2000-01-13  5.150998\n",
       "     h1_103 2000-01-11  5.007406"
      ]
     },
     "execution_count": 142,
     "metadata": {},
     "output_type": "execute_result"
    }
   ],
   "source": [
    "y_pred = model.predict(y=y_test, fh=fh)\n",
    "y_pred.head(10)"
   ]
  },
  {
   "cell_type": "markdown",
   "metadata": {},
   "source": [
    "We can plot one series to see the result. As we are using random data and only train the model for a few epochs, we can not expect too much."
   ]
  },
  {
   "cell_type": "code",
   "execution_count": 143,
   "metadata": {},
   "outputs": [
    {
     "data": {
      "text/plain": [
       "(<Figure size 1600x400 with 1 Axes>, <Axes: ylabel='c0'>)"
      ]
     },
     "execution_count": 143,
     "metadata": {},
     "output_type": "execute_result"
    },
    {
     "data": {
      "image/png": "[encoded data removed]",
      "text/plain": [
       "<Figure size 1600x400 with 1 Axes>"
      ]
     },
     "metadata": {},
     "output_type": "display_data"
    }
   ],
   "source": [
    "from sktime.utils.plotting import plot_series\n",
    "\n",
    "plot_series(\n",
    "    y_test.loc[(\"h0_0\", \"h1_100\")],\n",
    "    y_pred.loc[(\"h0_0\", \"h1_100\")],\n",
    "    labels=[\"y\", \"y_pred\"],\n",
    ")"
   ]
  },
  {
   "cell_type": "markdown",
   "metadata": {},
   "source": [
    "### Global Forecast with exogeneous data"
   ]
  },
  {
   "cell_type": "markdown",
   "metadata": {},
   "source": [
    "When we predict with exogeneous data, we need to pass both `X` and `y` to `predict`.\n",
    "\n",
    "`X` must contain all historical values and the time points to be predicted while `y` should only contain the historical values but not the time points to be predicted."
   ]
  },
  {
   "cell_type": "code",
   "execution_count": 144,
   "metadata": {},
   "outputs": [],
   "source": [
    "data = _make_hierarchical(\n",
    "    (5, 100),\n",
    "    n_columns=2,\n",
    "    max_timepoints=10,\n",
    "    min_timepoints=10,\n",
    ")\n",
    "l1 = data.index.get_level_values(1).map(lambda x: int(x[3:]))\n",
    "X_train = data.loc[l1 < 90, \"c0\"].to_frame()\n",
    "y_train = data.loc[l1 < 90, \"c1\"].to_frame()\n",
    "X_test = data.loc[l1 >= 80, \"c0\"].to_frame()\n",
    "y_test = data.loc[l1 >= 80, \"c1\"].to_frame()\n",
    "y_test = y_test.groupby(level=[0, 1]).apply(lambda x: x.droplevel([0, 1]).iloc[:-3])"
   ]
  },
  {
   "cell_type": "markdown",
   "metadata": {},
   "source": [
    "`X_train` and `y_train` has the same time index."
   ]
  },
  {
   "cell_type": "code",
   "execution_count": 145,
   "metadata": {},
   "outputs": [
    {
     "data": {
      "text/html": [
       "<div>\n",
       "<style scoped>\n",
       "    .dataframe tbody tr th:only-of-type {\n",
       "        vertical-align: middle;\n",
       "    }\n",
       "\n",
       "    .dataframe tbody tr th {\n",
       "        vertical-align: top;\n",
       "    }\n",
       "\n",
       "    .dataframe thead th {\n",
       "        text-align: right;\n",
       "    }\n",
       "</style>\n",
       "<table border=\"1\" class=\"dataframe\">\n",
       "  <thead>\n",
       "    <tr style=\"text-align: right;\">\n",
       "      <th></th>\n",
       "      <th></th>\n",
       "      <th></th>\n",
       "      <th>c0</th>\n",
       "    </tr>\n",
       "    <tr>\n",
       "      <th>h0</th>\n",
       "      <th>h1</th>\n",
       "      <th>time</th>\n",
       "      <th></th>\n",
       "    </tr>\n",
       "  </thead>\n",
       "  <tbody>\n",
       "    <tr>\n",
       "      <th rowspan=\"12\" valign=\"top\">h0_0</th>\n",
       "      <th rowspan=\"10\" valign=\"top\">h1_0</th>\n",
       "      <th>2000-01-01</th>\n",
       "      <td>5.161934</td>\n",
       "    </tr>\n",
       "    <tr>\n",
       "      <th>2000-01-02</th>\n",
       "      <td>5.398771</td>\n",
       "    </tr>\n",
       "    <tr>\n",
       "      <th>2000-01-03</th>\n",
       "      <td>4.238747</td>\n",
       "    </tr>\n",
       "    <tr>\n",
       "      <th>2000-01-04</th>\n",
       "      <td>5.353835</td>\n",
       "    </tr>\n",
       "    <tr>\n",
       "      <th>2000-01-05</th>\n",
       "      <td>2.237415</td>\n",
       "    </tr>\n",
       "    <tr>\n",
       "      <th>2000-01-06</th>\n",
       "      <td>6.383368</td>\n",
       "    </tr>\n",
       "    <tr>\n",
       "      <th>2000-01-07</th>\n",
       "      <td>3.936738</td>\n",
       "    </tr>\n",
       "    <tr>\n",
       "      <th>2000-01-08</th>\n",
       "      <td>5.004550</td>\n",
       "    </tr>\n",
       "    <tr>\n",
       "      <th>2000-01-09</th>\n",
       "      <td>4.389141</td>\n",
       "    </tr>\n",
       "    <tr>\n",
       "      <th>2000-01-10</th>\n",
       "      <td>4.680426</td>\n",
       "    </tr>\n",
       "    <tr>\n",
       "      <th rowspan=\"2\" valign=\"top\">h1_1</th>\n",
       "      <th>2000-01-01</th>\n",
       "      <td>4.045219</td>\n",
       "    </tr>\n",
       "    <tr>\n",
       "      <th>2000-01-02</th>\n",
       "      <td>4.441600</td>\n",
       "    </tr>\n",
       "  </tbody>\n",
       "</table>\n",
       "</div>"
      ],
      "text/plain": [
       "                            c0\n",
       "h0   h1   time                \n",
       "h0_0 h1_0 2000-01-01  5.161934\n",
       "          2000-01-02  5.398771\n",
       "          2000-01-03  4.238747\n",
       "          2000-01-04  5.353835\n",
       "          2000-01-05  2.237415\n",
       "          2000-01-06  6.383368\n",
       "          2000-01-07  3.936738\n",
       "          2000-01-08  5.004550\n",
       "          2000-01-09  4.389141\n",
       "          2000-01-10  4.680426\n",
       "     h1_1 2000-01-01  4.045219\n",
       "          2000-01-02  4.441600"
      ]
     },
     "execution_count": 145,
     "metadata": {},
     "output_type": "execute_result"
    }
   ],
   "source": [
    "X_train.head(12)"
   ]
  },
  {
   "cell_type": "code",
   "execution_count": 146,
   "metadata": {},
   "outputs": [
    {
     "data": {
      "text/html": [
       "<div>\n",
       "<style scoped>\n",
       "    .dataframe tbody tr th:only-of-type {\n",
       "        vertical-align: middle;\n",
       "    }\n",
       "\n",
       "    .dataframe tbody tr th {\n",
       "        vertical-align: top;\n",
       "    }\n",
       "\n",
       "    .dataframe thead th {\n",
       "        text-align: right;\n",
       "    }\n",
       "</style>\n",
       "<table border=\"1\" class=\"dataframe\">\n",
       "  <thead>\n",
       "    <tr style=\"text-align: right;\">\n",
       "      <th></th>\n",
       "      <th></th>\n",
       "      <th></th>\n",
       "      <th>c1</th>\n",
       "    </tr>\n",
       "    <tr>\n",
       "      <th>h0</th>\n",
       "      <th>h1</th>\n",
       "      <th>time</th>\n",
       "      <th></th>\n",
       "    </tr>\n",
       "  </thead>\n",
       "  <tbody>\n",
       "    <tr>\n",
       "      <th rowspan=\"12\" valign=\"top\">h0_0</th>\n",
       "      <th rowspan=\"10\" valign=\"top\">h1_0</th>\n",
       "      <th>2000-01-01</th>\n",
       "      <td>4.874364</td>\n",
       "    </tr>\n",
       "    <tr>\n",
       "      <th>2000-01-02</th>\n",
       "      <td>3.229131</td>\n",
       "    </tr>\n",
       "    <tr>\n",
       "      <th>2000-01-03</th>\n",
       "      <td>4.268050</td>\n",
       "    </tr>\n",
       "    <tr>\n",
       "      <th>2000-01-04</th>\n",
       "      <td>3.594344</td>\n",
       "    </tr>\n",
       "    <tr>\n",
       "      <th>2000-01-05</th>\n",
       "      <td>2.600294</td>\n",
       "    </tr>\n",
       "    <tr>\n",
       "      <th>2000-01-06</th>\n",
       "      <td>5.075286</td>\n",
       "    </tr>\n",
       "    <tr>\n",
       "      <th>2000-01-07</th>\n",
       "      <td>3.169445</td>\n",
       "    </tr>\n",
       "    <tr>\n",
       "      <th>2000-01-08</th>\n",
       "      <td>3.280807</td>\n",
       "    </tr>\n",
       "    <tr>\n",
       "      <th>2000-01-09</th>\n",
       "      <td>3.889109</td>\n",
       "    </tr>\n",
       "    <tr>\n",
       "      <th>2000-01-10</th>\n",
       "      <td>2.462919</td>\n",
       "    </tr>\n",
       "    <tr>\n",
       "      <th rowspan=\"2\" valign=\"top\">h1_1</th>\n",
       "      <th>2000-01-01</th>\n",
       "      <td>3.750360</td>\n",
       "    </tr>\n",
       "    <tr>\n",
       "      <th>2000-01-02</th>\n",
       "      <td>4.349581</td>\n",
       "    </tr>\n",
       "  </tbody>\n",
       "</table>\n",
       "</div>"
      ],
      "text/plain": [
       "                            c1\n",
       "h0   h1   time                \n",
       "h0_0 h1_0 2000-01-01  4.874364\n",
       "          2000-01-02  3.229131\n",
       "          2000-01-03  4.268050\n",
       "          2000-01-04  3.594344\n",
       "          2000-01-05  2.600294\n",
       "          2000-01-06  5.075286\n",
       "          2000-01-07  3.169445\n",
       "          2000-01-08  3.280807\n",
       "          2000-01-09  3.889109\n",
       "          2000-01-10  2.462919\n",
       "     h1_1 2000-01-01  3.750360\n",
       "          2000-01-02  4.349581"
      ]
     },
     "execution_count": 146,
     "metadata": {},
     "output_type": "execute_result"
    }
   ],
   "source": [
    "y_train.head(12)"
   ]
  },
  {
   "cell_type": "markdown",
   "metadata": {},
   "source": [
    "`y_test` is shorter than `X_test` as `y_test` only contains the historical values not the time points to be predicted."
   ]
  },
  {
   "cell_type": "code",
   "execution_count": 147,
   "metadata": {},
   "outputs": [
    {
     "data": {
      "text/html": [
       "<div>\n",
       "<style scoped>\n",
       "    .dataframe tbody tr th:only-of-type {\n",
       "        vertical-align: middle;\n",
       "    }\n",
       "\n",
       "    .dataframe tbody tr th {\n",
       "        vertical-align: top;\n",
       "    }\n",
       "\n",
       "    .dataframe thead th {\n",
       "        text-align: right;\n",
       "    }\n",
       "</style>\n",
       "<table border=\"1\" class=\"dataframe\">\n",
       "  <thead>\n",
       "    <tr style=\"text-align: right;\">\n",
       "      <th></th>\n",
       "      <th></th>\n",
       "      <th></th>\n",
       "      <th>c0</th>\n",
       "    </tr>\n",
       "    <tr>\n",
       "      <th>h0</th>\n",
       "      <th>h1</th>\n",
       "      <th>time</th>\n",
       "      <th></th>\n",
       "    </tr>\n",
       "  </thead>\n",
       "  <tbody>\n",
       "    <tr>\n",
       "      <th rowspan=\"12\" valign=\"top\">h0_0</th>\n",
       "      <th rowspan=\"10\" valign=\"top\">h1_80</th>\n",
       "      <th>2000-01-01</th>\n",
       "      <td>4.654932</td>\n",
       "    </tr>\n",
       "    <tr>\n",
       "      <th>2000-01-02</th>\n",
       "      <td>5.434049</td>\n",
       "    </tr>\n",
       "    <tr>\n",
       "      <th>2000-01-03</th>\n",
       "      <td>4.718527</td>\n",
       "    </tr>\n",
       "    <tr>\n",
       "      <th>2000-01-04</th>\n",
       "      <td>3.958545</td>\n",
       "    </tr>\n",
       "    <tr>\n",
       "      <th>2000-01-05</th>\n",
       "      <td>4.422221</td>\n",
       "    </tr>\n",
       "    <tr>\n",
       "      <th>2000-01-06</th>\n",
       "      <td>5.216758</td>\n",
       "    </tr>\n",
       "    <tr>\n",
       "      <th>2000-01-07</th>\n",
       "      <td>4.575687</td>\n",
       "    </tr>\n",
       "    <tr>\n",
       "      <th>2000-01-08</th>\n",
       "      <td>5.068531</td>\n",
       "    </tr>\n",
       "    <tr>\n",
       "      <th>2000-01-09</th>\n",
       "      <td>4.892554</td>\n",
       "    </tr>\n",
       "    <tr>\n",
       "      <th>2000-01-10</th>\n",
       "      <td>5.780206</td>\n",
       "    </tr>\n",
       "    <tr>\n",
       "      <th rowspan=\"2\" valign=\"top\">h1_81</th>\n",
       "      <th>2000-01-01</th>\n",
       "      <td>4.570537</td>\n",
       "    </tr>\n",
       "    <tr>\n",
       "      <th>2000-01-02</th>\n",
       "      <td>4.608686</td>\n",
       "    </tr>\n",
       "  </tbody>\n",
       "</table>\n",
       "</div>"
      ],
      "text/plain": [
       "                             c0\n",
       "h0   h1    time                \n",
       "h0_0 h1_80 2000-01-01  4.654932\n",
       "           2000-01-02  5.434049\n",
       "           2000-01-03  4.718527\n",
       "           2000-01-04  3.958545\n",
       "           2000-01-05  4.422221\n",
       "           2000-01-06  5.216758\n",
       "           2000-01-07  4.575687\n",
       "           2000-01-08  5.068531\n",
       "           2000-01-09  4.892554\n",
       "           2000-01-10  5.780206\n",
       "     h1_81 2000-01-01  4.570537\n",
       "           2000-01-02  4.608686"
      ]
     },
     "execution_count": 147,
     "metadata": {},
     "output_type": "execute_result"
    }
   ],
   "source": [
    "X_test.head(12)"
   ]
  },
  {
   "cell_type": "code",
   "execution_count": 148,
   "metadata": {},
   "outputs": [
    {
     "data": {
      "text/html": [
       "<div>\n",
       "<style scoped>\n",
       "    .dataframe tbody tr th:only-of-type {\n",
       "        vertical-align: middle;\n",
       "    }\n",
       "\n",
       "    .dataframe tbody tr th {\n",
       "        vertical-align: top;\n",
       "    }\n",
       "\n",
       "    .dataframe thead th {\n",
       "        text-align: right;\n",
       "    }\n",
       "</style>\n",
       "<table border=\"1\" class=\"dataframe\">\n",
       "  <thead>\n",
       "    <tr style=\"text-align: right;\">\n",
       "      <th></th>\n",
       "      <th></th>\n",
       "      <th></th>\n",
       "      <th>c1</th>\n",
       "    </tr>\n",
       "    <tr>\n",
       "      <th>h0</th>\n",
       "      <th>h1</th>\n",
       "      <th>time</th>\n",
       "      <th></th>\n",
       "    </tr>\n",
       "  </thead>\n",
       "  <tbody>\n",
       "    <tr>\n",
       "      <th rowspan=\"12\" valign=\"top\">h0_0</th>\n",
       "      <th rowspan=\"7\" valign=\"top\">h1_80</th>\n",
       "      <th>2000-01-01</th>\n",
       "      <td>3.786489</td>\n",
       "    </tr>\n",
       "    <tr>\n",
       "      <th>2000-01-02</th>\n",
       "      <td>4.247371</td>\n",
       "    </tr>\n",
       "    <tr>\n",
       "      <th>2000-01-03</th>\n",
       "      <td>3.246777</td>\n",
       "    </tr>\n",
       "    <tr>\n",
       "      <th>2000-01-04</th>\n",
       "      <td>3.827141</td>\n",
       "    </tr>\n",
       "    <tr>\n",
       "      <th>2000-01-05</th>\n",
       "      <td>5.361965</td>\n",
       "    </tr>\n",
       "    <tr>\n",
       "      <th>2000-01-06</th>\n",
       "      <td>4.743557</td>\n",
       "    </tr>\n",
       "    <tr>\n",
       "      <th>2000-01-07</th>\n",
       "      <td>4.015955</td>\n",
       "    </tr>\n",
       "    <tr>\n",
       "      <th rowspan=\"5\" valign=\"top\">h1_81</th>\n",
       "      <th>2000-01-01</th>\n",
       "      <td>5.028608</td>\n",
       "    </tr>\n",
       "    <tr>\n",
       "      <th>2000-01-02</th>\n",
       "      <td>4.443011</td>\n",
       "    </tr>\n",
       "    <tr>\n",
       "      <th>2000-01-03</th>\n",
       "      <td>4.639220</td>\n",
       "    </tr>\n",
       "    <tr>\n",
       "      <th>2000-01-04</th>\n",
       "      <td>3.409193</td>\n",
       "    </tr>\n",
       "    <tr>\n",
       "      <th>2000-01-05</th>\n",
       "      <td>4.384253</td>\n",
       "    </tr>\n",
       "  </tbody>\n",
       "</table>\n",
       "</div>"
      ],
      "text/plain": [
       "                             c1\n",
       "h0   h1    time                \n",
       "h0_0 h1_80 2000-01-01  3.786489\n",
       "           2000-01-02  4.247371\n",
       "           2000-01-03  3.246777\n",
       "           2000-01-04  3.827141\n",
       "           2000-01-05  5.361965\n",
       "           2000-01-06  4.743557\n",
       "           2000-01-07  4.015955\n",
       "     h1_81 2000-01-01  5.028608\n",
       "           2000-01-02  4.443011\n",
       "           2000-01-03  4.639220\n",
       "           2000-01-04  3.409193\n",
       "           2000-01-05  4.384253"
      ]
     },
     "execution_count": 148,
     "metadata": {},
     "output_type": "execute_result"
    }
   ],
   "source": [
    "y_test.head(12)"
   ]
  },
  {
   "cell_type": "markdown",
   "metadata": {},
   "source": [
    "Let's initialize a model and fit the data."
   ]
  },
  {
   "cell_type": "code",
   "execution_count": 149,
   "metadata": {},
   "outputs": [],
   "source": [
    "from sktime.forecasting.pytorchforecasting import PytorchForecastingTFT"
   ]
  },
  {
   "cell_type": "code",
   "execution_count": 150,
   "metadata": {},
   "outputs": [
    {
     "name": "stdout",
     "output_type": "stream",
     "text": [
      "PytorchForecastingTFT(dataset_params={'max_encoder_length': 3},\n",
      "                      trainer_params={'limit_train_batches': 10,\n",
      "                                      'max_epochs': 5})\n"
     ]
    }
   ],
   "source": [
    "model = PytorchForecastingTFT(\n",
    "    trainer_params={\n",
    "        \"max_epochs\": 5,  # for quick test\n",
    "        \"limit_train_batches\": 10,  # for quick test\n",
    "    },\n",
    "    dataset_params={\n",
    "        \"max_encoder_length\": 3,\n",
    "    },\n",
    ")\n",
    "print(model)"
   ]
  },
  {
   "cell_type": "code",
   "execution_count": 151,
   "metadata": {},
   "outputs": [
    {
     "name": "stderr",
     "output_type": "stream",
     "text": [
      "GPU available: True (cuda), used: True\n",
      "TPU available: False, using: 0 TPU cores\n",
      "IPU available: False, using: 0 IPUs\n",
      "HPU available: False, using: 0 HPUs\n",
      "LOCAL_RANK: 0 - CUDA_VISIBLE_DEVICES: [0]\n"
     ]
    },
    {
     "name": "stdout",
     "output_type": "stream",
     "text": [
      "{'max_encoder_length': 3, 'output_size': 7}\n"
     ]
    },
    {
     "name": "stderr",
     "output_type": "stream",
     "text": [
      "\n",
      "   | Name                               | Type                            | Params\n",
      "----------------------------------------------------------------------------------------\n",
      "0  | loss                               | QuantileLoss                    | 0     \n",
      "1  | logging_metrics                    | ModuleList                      | 0     \n",
      "2  | input_embeddings                   | MultiEmbedding                  | 0     \n",
      "3  | prescalers                         | ModuleDict                      | 32    \n",
      "4  | static_variable_selection          | VariableSelectionNetwork        | 0     \n",
      "5  | encoder_variable_selection         | VariableSelectionNetwork        | 1.2 K \n",
      "6  | decoder_variable_selection         | VariableSelectionNetwork        | 528   \n",
      "7  | static_context_variable_selection  | GatedResidualNetwork            | 1.1 K \n",
      "8  | static_context_initial_hidden_lstm | GatedResidualNetwork            | 1.1 K \n",
      "9  | static_context_initial_cell_lstm   | GatedResidualNetwork            | 1.1 K \n",
      "10 | static_context_enrichment          | GatedResidualNetwork            | 1.1 K \n",
      "11 | lstm_encoder                       | LSTM                            | 2.2 K \n",
      "12 | lstm_decoder                       | LSTM                            | 2.2 K \n",
      "13 | post_lstm_gate_encoder             | GatedLinearUnit                 | 544   \n",
      "14 | post_lstm_add_norm_encoder         | AddNorm                         | 32    \n",
      "15 | static_enrichment                  | GatedResidualNetwork            | 1.4 K \n",
      "16 | multihead_attn                     | InterpretableMultiHeadAttention | 676   \n",
      "17 | post_attn_gate_norm                | GateAddNorm                     | 576   \n",
      "18 | pos_wise_ff                        | GatedResidualNetwork            | 1.1 K \n",
      "19 | pre_output_gate_norm               | GateAddNorm                     | 576   \n",
      "20 | output_layer                       | Linear                          | 119   \n",
      "----------------------------------------------------------------------------------------\n",
      "15.5 K    Trainable params\n",
      "0         Non-trainable params\n",
      "15.5 K    Total params\n",
      "0.062     Total estimated model params size (MB)\n"
     ]
    },
    {
     "name": "stdout",
     "output_type": "stream",
     "text": [
      "Epoch 4: 100%|██████████| 10/10 [00:00<00:00, 18.51it/s, v_num=23, train_loss_step=0.799, val_loss=0.800, train_loss_epoch=0.833]"
     ]
    },
    {
     "name": "stderr",
     "output_type": "stream",
     "text": [
      "`Trainer.fit` stopped: `max_epochs=5` reached.\n"
     ]
    },
    {
     "name": "stdout",
     "output_type": "stream",
     "text": [
      "Epoch 4: 100%|██████████| 10/10 [00:00<00:00, 17.60it/s, v_num=23, train_loss_step=0.799, val_loss=0.800, train_loss_epoch=0.833]\n"
     ]
    },
    {
     "data": {
      "text/html": [
       "<style>#sk-c2794165-e97c-427f-b361-75c7e3d1115c {color: black;background-color: white;}#sk-c2794165-e97c-427f-b361-75c7e3d1115c pre{padding: 0;}#sk-c2794165-e97c-427f-b361-75c7e3d1115c div.sk-toggleable {background-color: white;}#sk-c2794165-e97c-427f-b361-75c7e3d1115c label.sk-toggleable__label {cursor: pointer;display: block;width: 100%;margin-bottom: 0;padding: 0.3em;box-sizing: border-box;text-align: center;}#sk-c2794165-e97c-427f-b361-75c7e3d1115c label.sk-toggleable__label-arrow:before {content: \"▸\";float: left;margin-right: 0.25em;color: #696969;}#sk-c2794165-e97c-427f-b361-75c7e3d1115c label.sk-toggleable__label-arrow:hover:before {color: black;}#sk-c2794165-e97c-427f-b361-75c7e3d1115c div.sk-estimator:hover label.sk-toggleable__label-arrow:before {color: black;}#sk-c2794165-e97c-427f-b361-75c7e3d1115c div.sk-toggleable__content {max-height: 0;max-width: 0;overflow: hidden;text-align: left;background-color: #f0f8ff;}#sk-c2794165-e97c-427f-b361-75c7e3d1115c div.sk-toggleable__content pre {margin: 0.2em;color: black;border-radius: 0.25em;background-color: #f0f8ff;}#sk-c2794165-e97c-427f-b361-75c7e3d1115c input.sk-toggleable__control:checked~div.sk-toggleable__content {max-height: 200px;max-width: 100%;overflow: auto;}#sk-c2794165-e97c-427f-b361-75c7e3d1115c input.sk-toggleable__control:checked~label.sk-toggleable__label-arrow:before {content: \"▾\";}#sk-c2794165-e97c-427f-b361-75c7e3d1115c div.sk-estimator input.sk-toggleable__control:checked~label.sk-toggleable__label {background-color: #d4ebff;}#sk-c2794165-e97c-427f-b361-75c7e3d1115c div.sk-label input.sk-toggleable__control:checked~label.sk-toggleable__label {background-color: #d4ebff;}#sk-c2794165-e97c-427f-b361-75c7e3d1115c input.sk-hidden--visually {border: 0;clip: rect(1px 1px 1px 1px);clip: rect(1px, 1px, 1px, 1px);height: 1px;margin: -1px;overflow: hidden;padding: 0;position: absolute;width: 1px;}#sk-c2794165-e97c-427f-b361-75c7e3d1115c div.sk-estimator {font-family: monospace;background-color: #f0f8ff;border: 1px dotted black;border-radius: 0.25em;box-sizing: border-box;margin-bottom: 0.5em;}#sk-c2794165-e97c-427f-b361-75c7e3d1115c div.sk-estimator:hover {background-color: #d4ebff;}#sk-c2794165-e97c-427f-b361-75c7e3d1115c div.sk-parallel-item::after {content: \"\";width: 100%;border-bottom: 1px solid gray;flex-grow: 1;}#sk-c2794165-e97c-427f-b361-75c7e3d1115c div.sk-label:hover label.sk-toggleable__label {background-color: #d4ebff;}#sk-c2794165-e97c-427f-b361-75c7e3d1115c div.sk-serial::before {content: \"\";position: absolute;border-left: 1px solid gray;box-sizing: border-box;top: 2em;bottom: 0;left: 50%;}#sk-c2794165-e97c-427f-b361-75c7e3d1115c div.sk-serial {display: flex;flex-direction: column;align-items: center;background-color: white;padding-right: 0.2em;padding-left: 0.2em;}#sk-c2794165-e97c-427f-b361-75c7e3d1115c div.sk-item {z-index: 1;}#sk-c2794165-e97c-427f-b361-75c7e3d1115c div.sk-parallel {display: flex;align-items: stretch;justify-content: center;background-color: white;}#sk-c2794165-e97c-427f-b361-75c7e3d1115c div.sk-parallel::before {content: \"\";position: absolute;border-left: 1px solid gray;box-sizing: border-box;top: 2em;bottom: 0;left: 50%;}#sk-c2794165-e97c-427f-b361-75c7e3d1115c div.sk-parallel-item {display: flex;flex-direction: column;position: relative;background-color: white;}#sk-c2794165-e97c-427f-b361-75c7e3d1115c div.sk-parallel-item:first-child::after {align-self: flex-end;width: 50%;}#sk-c2794165-e97c-427f-b361-75c7e3d1115c div.sk-parallel-item:last-child::after {align-self: flex-start;width: 50%;}#sk-c2794165-e97c-427f-b361-75c7e3d1115c div.sk-parallel-item:only-child::after {width: 0;}#sk-c2794165-e97c-427f-b361-75c7e3d1115c div.sk-dashed-wrapped {border: 1px dashed gray;margin: 0 0.4em 0.5em 0.4em;box-sizing: border-box;padding-bottom: 0.4em;background-color: white;position: relative;}#sk-c2794165-e97c-427f-b361-75c7e3d1115c div.sk-label label {font-family: monospace;font-weight: bold;background-color: white;display: inline-block;line-height: 1.2em;}#sk-c2794165-e97c-427f-b361-75c7e3d1115c div.sk-label-container {position: relative;z-index: 2;text-align: center;}#sk-c2794165-e97c-427f-b361-75c7e3d1115c div.sk-container {/* jupyter's `normalize.less` sets `[hidden] { display: none; }` but bootstrap.min.css set `[hidden] { display: none !important; }` so we also need the `!important` here to be able to override the default hidden behavior on the sphinx rendered scikit-learn.org. See: https://github.com/scikit-learn/scikit-learn/issues/21755 */display: inline-block !important;position: relative;}#sk-c2794165-e97c-427f-b361-75c7e3d1115c div.sk-text-repr-fallback {display: none;}</style><div id='sk-c2794165-e97c-427f-b361-75c7e3d1115c' class=\"sk-top-container\"><div class=\"sk-text-repr-fallback\"><pre>PytorchForecastingTFT(dataset_params={&#x27;max_encoder_length&#x27;: 3},\n",
       "                      trainer_params={&#x27;limit_train_batches&#x27;: 10,\n",
       "                                      &#x27;max_epochs&#x27;: 5})</pre><b>Please rerun this cell to show the HTML repr or trust the notebook.</b></div><div class=\"sk-container\" hidden><div class='sk-item'><div class=\"sk-estimator sk-toggleable\"><input class=\"sk-toggleable__control sk-hidden--visually\" id=UUID('279da119-c584-4824-9c53-ff147e31df46') type=\"checkbox\" checked><label for=UUID('279da119-c584-4824-9c53-ff147e31df46') class='sk-toggleable__label sk-toggleable__label-arrow'>PytorchForecastingTFT</label><div class=\"sk-toggleable__content\"><pre>PytorchForecastingTFT(dataset_params={&#x27;max_encoder_length&#x27;: 3},\n",
       "                      trainer_params={&#x27;limit_train_batches&#x27;: 10,\n",
       "                                      &#x27;max_epochs&#x27;: 5})</pre></div></div></div></div></div>"
      ],
      "text/plain": [
       "PytorchForecastingTFT(dataset_params={'max_encoder_length': 3},\n",
       "                      trainer_params={'limit_train_batches': 10,\n",
       "                                      'max_epochs': 5})"
      ]
     },
     "execution_count": 151,
     "metadata": {},
     "output_type": "execute_result"
    }
   ],
   "source": [
    "model.fit(y=y_train, X=X_train, fh=fh)"
   ]
  },
  {
   "cell_type": "markdown",
   "metadata": {},
   "source": [
    "Now we can predict on `y_test` with `X_test`."
   ]
  },
  {
   "cell_type": "code",
   "execution_count": 152,
   "metadata": {},
   "outputs": [
    {
     "name": "stderr",
     "output_type": "stream",
     "text": [
      "GPU available: True (cuda), used: True\n",
      "TPU available: False, using: 0 TPU cores\n",
      "IPU available: False, using: 0 IPUs\n",
      "HPU available: False, using: 0 HPUs\n",
      "LOCAL_RANK: 0 - CUDA_VISIBLE_DEVICES: [0]\n"
     ]
    },
    {
     "data": {
      "text/html": [
       "<div>\n",
       "<style scoped>\n",
       "    .dataframe tbody tr th:only-of-type {\n",
       "        vertical-align: middle;\n",
       "    }\n",
       "\n",
       "    .dataframe tbody tr th {\n",
       "        vertical-align: top;\n",
       "    }\n",
       "\n",
       "    .dataframe thead th {\n",
       "        text-align: right;\n",
       "    }\n",
       "</style>\n",
       "<table border=\"1\" class=\"dataframe\">\n",
       "  <thead>\n",
       "    <tr style=\"text-align: right;\">\n",
       "      <th></th>\n",
       "      <th></th>\n",
       "      <th></th>\n",
       "      <th>c1</th>\n",
       "    </tr>\n",
       "    <tr>\n",
       "      <th>h0</th>\n",
       "      <th>h1</th>\n",
       "      <th>time</th>\n",
       "      <th></th>\n",
       "    </tr>\n",
       "  </thead>\n",
       "  <tbody>\n",
       "    <tr>\n",
       "      <th rowspan=\"10\" valign=\"top\">h0_0</th>\n",
       "      <th rowspan=\"3\" valign=\"top\">h1_80</th>\n",
       "      <th>2000-01-08</th>\n",
       "      <td>3.850976</td>\n",
       "    </tr>\n",
       "    <tr>\n",
       "      <th>2000-01-09</th>\n",
       "      <td>3.817626</td>\n",
       "    </tr>\n",
       "    <tr>\n",
       "      <th>2000-01-10</th>\n",
       "      <td>4.060377</td>\n",
       "    </tr>\n",
       "    <tr>\n",
       "      <th rowspan=\"3\" valign=\"top\">h1_81</th>\n",
       "      <th>2000-01-08</th>\n",
       "      <td>3.947010</td>\n",
       "    </tr>\n",
       "    <tr>\n",
       "      <th>2000-01-09</th>\n",
       "      <td>4.081046</td>\n",
       "    </tr>\n",
       "    <tr>\n",
       "      <th>2000-01-10</th>\n",
       "      <td>4.585935</td>\n",
       "    </tr>\n",
       "    <tr>\n",
       "      <th rowspan=\"3\" valign=\"top\">h1_82</th>\n",
       "      <th>2000-01-08</th>\n",
       "      <td>3.983865</td>\n",
       "    </tr>\n",
       "    <tr>\n",
       "      <th>2000-01-09</th>\n",
       "      <td>3.829445</td>\n",
       "    </tr>\n",
       "    <tr>\n",
       "      <th>2000-01-10</th>\n",
       "      <td>4.117847</td>\n",
       "    </tr>\n",
       "    <tr>\n",
       "      <th>h1_83</th>\n",
       "      <th>2000-01-08</th>\n",
       "      <td>3.847155</td>\n",
       "    </tr>\n",
       "  </tbody>\n",
       "</table>\n",
       "</div>"
      ],
      "text/plain": [
       "                             c1\n",
       "h0   h1    time                \n",
       "h0_0 h1_80 2000-01-08  3.850976\n",
       "           2000-01-09  3.817626\n",
       "           2000-01-10  4.060377\n",
       "     h1_81 2000-01-08  3.947010\n",
       "           2000-01-09  4.081046\n",
       "           2000-01-10  4.585935\n",
       "     h1_82 2000-01-08  3.983865\n",
       "           2000-01-09  3.829445\n",
       "           2000-01-10  4.117847\n",
       "     h1_83 2000-01-08  3.847155"
      ]
     },
     "execution_count": 152,
     "metadata": {},
     "output_type": "execute_result"
    }
   ],
   "source": [
    "y_pred = model.predict(fh=fh, X=X_test, y=y_test)\n",
    "y_pred.head(10)"
   ]
  },
  {
   "cell_type": "markdown",
   "metadata": {},
   "source": [
    "We can plot one series to see the result. As we are using random data and only train the model for a few epochs, we can not expect too much."
   ]
  },
  {
   "cell_type": "code",
   "execution_count": 153,
   "metadata": {},
   "outputs": [
    {
     "data": {
      "text/plain": [
       "(<Figure size 1600x400 with 1 Axes>, <Axes: ylabel='c1'>)"
      ]
     },
     "execution_count": 153,
     "metadata": {},
     "output_type": "execute_result"
    },
    {
     "data": {
      "image/png": "[encoded data removed]",
      "text/plain": [
       "<Figure size 1600x400 with 1 Axes>"
      ]
     },
     "metadata": {},
     "output_type": "display_data"
    }
   ],
   "source": [
    "plot_series(\n",
    "    y_test.loc[(\"h0_0\", \"h1_80\")],\n",
    "    y_pred.loc[(\"h0_0\", \"h1_80\")],\n",
    "    labels=[\"y\", \"y_pred\"],\n",
    ")"
   ]
  }
 ],
 "metadata": {
  "kernelspec": {
   "display_name": "Python 3",
   "language": "python",
   "name": "python3"
  },
  "language_info": {
   "codemirror_mode": {
    "name": "ipython",
    "version": 3
   },
   "file_extension": ".py",
   "mimetype": "text/x-python",
   "name": "python",
   "nbconvert_exporter": "python",
   "pygments_lexer": "ipython3",
   "version": "3.10.14"
  }
 },
 "nbformat": 4,
 "nbformat_minor": 2
}
