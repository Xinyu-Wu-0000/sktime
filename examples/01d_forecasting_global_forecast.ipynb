{
 "cells": [
  {
   "cell_type": "markdown",
   "metadata": {},
   "source": [
    "# Global Forecasting with `sktime`"
   ]
  },
  {
   "cell_type": "markdown",
   "metadata": {},
   "source": [
    "### Overview of this notebook\n",
    "\n",
    "* introduction - global forecasting\n",
    "* global forecast without exogeneous data\n",
    "* global forecast with exogeneous data"
   ]
  },
  {
   "cell_type": "code",
   "execution_count": 56,
   "metadata": {},
   "outputs": [],
   "source": [
    "%%capture\n",
    "import warnings\n",
    "\n",
    "warnings.filterwarnings(\"ignore\")\n",
    "\n",
    "import sys\n",
    "\n",
    "py_exe = sys.executable\n",
    "\n",
    "!{py_exe} -m pip install pytorch_forecasting==1.0.0"
   ]
  },
  {
   "cell_type": "markdown",
   "metadata": {},
   "source": [
    "### What is global forecast?"
   ]
  },
  {
   "cell_type": "markdown",
   "metadata": {},
   "source": [
    "1. What is global forecast about?\n",
    "  \n",
    "    A lot of deep learning models will \n",
    "    \n",
    "    - train on large dataset which containing many time series from many instances \n",
    "    - predict on time series from other instances beyond training data. \n",
    "    \n",
    "    The ability to train on many series and predict beyond training data is called global forecast.\n",
    "\n",
    "2. How is global forecast formulated?\n",
    "\n",
    "   - train on dataset containing $n$ time series $\\{x_{i_1}, x_{i_2}, x_{i_3}, ..., x_{i_n}\\}$\n",
    "   - predict on another set of time series $\\{x_{j_1}, x_{j_2}, x_{j_3}, ..., x_{j_m}\\}$\n",
    "   - $m$ is not required to be equal to $n$\n",
    "   - there might or might not be intersection between the sets $\\{i_1,.., i_n\\}$ and $\\{j_1, ... j_m\\}$\n"
   ]
  },
  {
   "cell_type": "markdown",
   "metadata": {},
   "source": [
    "To check the global forecast ability of one forecaster in sktime, you can check the `capability:global_forecasting` tag."
   ]
  },
  {
   "cell_type": "code",
   "execution_count": 57,
   "metadata": {},
   "outputs": [
    {
     "data": {
      "text/plain": [
       "True"
      ]
     },
     "execution_count": 57,
     "metadata": {},
     "output_type": "execute_result"
    }
   ],
   "source": [
    "from sktime.forecasting.pytorchforecasting import PytorchForecastingDeepAR\n",
    "\n",
    "PytorchForecastingDeepAR().get_tag(\n",
    "    \"capability:global_forecasting\"\n",
    ")  # should return True"
   ]
  },
  {
   "cell_type": "markdown",
   "metadata": {},
   "source": [
    "### Global Forecast without exogeneous data"
   ]
  },
  {
   "cell_type": "markdown",
   "metadata": {},
   "source": [
    "You can pass $n$ series of `y` to `fit` and then predict on other $m$ series different from data in training. "
   ]
  },
  {
   "cell_type": "markdown",
   "metadata": {},
   "source": [
    "First we generate 90 series for training and 10 series to predict."
   ]
  },
  {
   "cell_type": "code",
   "execution_count": 58,
   "metadata": {},
   "outputs": [],
   "source": [
    "from sktime.utils._testing.hierarchical import _make_hierarchical\n",
    "from sklearn.model_selection import train_test_split\n",
    "\n",
    "data = _make_hierarchical(\n",
    "    hierarchy_levels=(100, 1), max_timepoints=10, min_timepoints=10, n_columns=1\n",
    ")\n",
    "data = data.droplevel(1)\n",
    "y_train, y_test = train_test_split(data, test_size=0.1, train_size=0.9, shuffle=False)"
   ]
  },
  {
   "cell_type": "markdown",
   "metadata": {},
   "source": [
    "`y_train` is the series we want to fit on which contains the first 90% of the time series instances."
   ]
  },
  {
   "cell_type": "code",
   "execution_count": 59,
   "metadata": {},
   "outputs": [
    {
     "data": {
      "text/html": [
       "<div>\n",
       "<style scoped>\n",
       "    .dataframe tbody tr th:only-of-type {\n",
       "        vertical-align: middle;\n",
       "    }\n",
       "\n",
       "    .dataframe tbody tr th {\n",
       "        vertical-align: top;\n",
       "    }\n",
       "\n",
       "    .dataframe thead th {\n",
       "        text-align: right;\n",
       "    }\n",
       "</style>\n",
       "<table border=\"1\" class=\"dataframe\">\n",
       "  <thead>\n",
       "    <tr style=\"text-align: right;\">\n",
       "      <th></th>\n",
       "      <th></th>\n",
       "      <th>c0</th>\n",
       "    </tr>\n",
       "    <tr>\n",
       "      <th>h0</th>\n",
       "      <th>time</th>\n",
       "      <th></th>\n",
       "    </tr>\n",
       "  </thead>\n",
       "  <tbody>\n",
       "    <tr>\n",
       "      <th rowspan=\"5\" valign=\"top\">h0_0</th>\n",
       "      <th>2000-01-01</th>\n",
       "      <td>4.123547</td>\n",
       "    </tr>\n",
       "    <tr>\n",
       "      <th>2000-01-02</th>\n",
       "      <td>5.742957</td>\n",
       "    </tr>\n",
       "    <tr>\n",
       "      <th>2000-01-03</th>\n",
       "      <td>3.235366</td>\n",
       "    </tr>\n",
       "    <tr>\n",
       "      <th>2000-01-04</th>\n",
       "      <td>4.776809</td>\n",
       "    </tr>\n",
       "    <tr>\n",
       "      <th>2000-01-05</th>\n",
       "      <td>5.137263</td>\n",
       "    </tr>\n",
       "    <tr>\n",
       "      <th>...</th>\n",
       "      <th>...</th>\n",
       "      <td>...</td>\n",
       "    </tr>\n",
       "    <tr>\n",
       "      <th rowspan=\"5\" valign=\"top\">h0_89</th>\n",
       "      <th>2000-01-06</th>\n",
       "      <td>3.979328</td>\n",
       "    </tr>\n",
       "    <tr>\n",
       "      <th>2000-01-07</th>\n",
       "      <td>5.656471</td>\n",
       "    </tr>\n",
       "    <tr>\n",
       "      <th>2000-01-08</th>\n",
       "      <td>5.146759</td>\n",
       "    </tr>\n",
       "    <tr>\n",
       "      <th>2000-01-09</th>\n",
       "      <td>5.237537</td>\n",
       "    </tr>\n",
       "    <tr>\n",
       "      <th>2000-01-10</th>\n",
       "      <td>3.849786</td>\n",
       "    </tr>\n",
       "  </tbody>\n",
       "</table>\n",
       "<p>900 rows × 1 columns</p>\n",
       "</div>"
      ],
      "text/plain": [
       "                        c0\n",
       "h0    time                \n",
       "h0_0  2000-01-01  4.123547\n",
       "      2000-01-02  5.742957\n",
       "      2000-01-03  3.235366\n",
       "      2000-01-04  4.776809\n",
       "      2000-01-05  5.137263\n",
       "...                    ...\n",
       "h0_89 2000-01-06  3.979328\n",
       "      2000-01-07  5.656471\n",
       "      2000-01-08  5.146759\n",
       "      2000-01-09  5.237537\n",
       "      2000-01-10  3.849786\n",
       "\n",
       "[900 rows x 1 columns]"
      ]
     },
     "execution_count": 59,
     "metadata": {},
     "output_type": "execute_result"
    }
   ],
   "source": [
    "y_train"
   ]
  },
  {
   "cell_type": "markdown",
   "metadata": {},
   "source": [
    "`y_test` is the series we want to predict on which contains the last 10% of the time series instances."
   ]
  },
  {
   "cell_type": "code",
   "execution_count": 60,
   "metadata": {},
   "outputs": [
    {
     "data": {
      "text/html": [
       "<div>\n",
       "<style scoped>\n",
       "    .dataframe tbody tr th:only-of-type {\n",
       "        vertical-align: middle;\n",
       "    }\n",
       "\n",
       "    .dataframe tbody tr th {\n",
       "        vertical-align: top;\n",
       "    }\n",
       "\n",
       "    .dataframe thead th {\n",
       "        text-align: right;\n",
       "    }\n",
       "</style>\n",
       "<table border=\"1\" class=\"dataframe\">\n",
       "  <thead>\n",
       "    <tr style=\"text-align: right;\">\n",
       "      <th></th>\n",
       "      <th></th>\n",
       "      <th>c0</th>\n",
       "    </tr>\n",
       "    <tr>\n",
       "      <th>h0</th>\n",
       "      <th>time</th>\n",
       "      <th></th>\n",
       "    </tr>\n",
       "  </thead>\n",
       "  <tbody>\n",
       "    <tr>\n",
       "      <th rowspan=\"5\" valign=\"top\">h0_90</th>\n",
       "      <th>2000-01-01</th>\n",
       "      <td>5.507207</td>\n",
       "    </tr>\n",
       "    <tr>\n",
       "      <th>2000-01-02</th>\n",
       "      <td>5.016982</td>\n",
       "    </tr>\n",
       "    <tr>\n",
       "      <th>2000-01-03</th>\n",
       "      <td>5.816398</td>\n",
       "    </tr>\n",
       "    <tr>\n",
       "      <th>2000-01-04</th>\n",
       "      <td>5.840714</td>\n",
       "    </tr>\n",
       "    <tr>\n",
       "      <th>2000-01-05</th>\n",
       "      <td>3.948941</td>\n",
       "    </tr>\n",
       "    <tr>\n",
       "      <th>...</th>\n",
       "      <th>...</th>\n",
       "      <td>...</td>\n",
       "    </tr>\n",
       "    <tr>\n",
       "      <th rowspan=\"5\" valign=\"top\">h0_99</th>\n",
       "      <th>2000-01-06</th>\n",
       "      <td>3.049137</td>\n",
       "    </tr>\n",
       "    <tr>\n",
       "      <th>2000-01-07</th>\n",
       "      <td>4.332526</td>\n",
       "    </tr>\n",
       "    <tr>\n",
       "      <th>2000-01-08</th>\n",
       "      <td>4.540341</td>\n",
       "    </tr>\n",
       "    <tr>\n",
       "      <th>2000-01-09</th>\n",
       "      <td>4.334228</td>\n",
       "    </tr>\n",
       "    <tr>\n",
       "      <th>2000-01-10</th>\n",
       "      <td>5.703869</td>\n",
       "    </tr>\n",
       "  </tbody>\n",
       "</table>\n",
       "<p>100 rows × 1 columns</p>\n",
       "</div>"
      ],
      "text/plain": [
       "                        c0\n",
       "h0    time                \n",
       "h0_90 2000-01-01  5.507207\n",
       "      2000-01-02  5.016982\n",
       "      2000-01-03  5.816398\n",
       "      2000-01-04  5.840714\n",
       "      2000-01-05  3.948941\n",
       "...                    ...\n",
       "h0_99 2000-01-06  3.049137\n",
       "      2000-01-07  4.332526\n",
       "      2000-01-08  4.540341\n",
       "      2000-01-09  4.334228\n",
       "      2000-01-10  5.703869\n",
       "\n",
       "[100 rows x 1 columns]"
      ]
     },
     "execution_count": 60,
     "metadata": {},
     "output_type": "execute_result"
    }
   ],
   "source": [
    "y_test"
   ]
  },
  {
   "cell_type": "markdown",
   "metadata": {},
   "source": [
    "You can see that `y_train` and `y_test` are different on hierarchical level `h0` which indicates that they come from different instances.\n",
    "\n",
    "We can initialize a gloabl forecaster to fit on `y_train` and predict on `y_test`."
   ]
  },
  {
   "cell_type": "code",
   "execution_count": 61,
   "metadata": {},
   "outputs": [],
   "source": [
    "from sktime.forecasting.pytorchforecasting import PytorchForecastingNBeats\n",
    "\n",
    "model = PytorchForecastingNBeats(\n",
    "    trainer_params={\n",
    "        \"max_epochs\": 5,  # for quick test\n",
    "        \"limit_train_batches\": 50,  # for quick test\n",
    "    },\n",
    "    dataset_params={\n",
    "        \"max_encoder_length\": 3,\n",
    "    },\n",
    ")"
   ]
  },
  {
   "cell_type": "code",
   "execution_count": 62,
   "metadata": {},
   "outputs": [
    {
     "name": "stderr",
     "output_type": "stream",
     "text": [
      "GPU available: True (cuda), used: True\n",
      "TPU available: False, using: 0 TPU cores\n",
      "IPU available: False, using: 0 IPUs\n",
      "HPU available: False, using: 0 HPUs\n",
      "LOCAL_RANK: 0 - CUDA_VISIBLE_DEVICES: [0]\n",
      "\n",
      "  | Name            | Type       | Params\n",
      "-----------------------------------------------\n",
      "0 | loss            | MASE       | 0     \n",
      "1 | logging_metrics | ModuleList | 0     \n",
      "2 | net_blocks      | ModuleList | 1.6 M \n",
      "-----------------------------------------------\n",
      "1.6 M     Trainable params\n",
      "0         Non-trainable params\n",
      "1.6 M     Total params\n",
      "6.375     Total estimated model params size (MB)\n"
     ]
    },
    {
     "data": {
      "application/vnd.jupyter.widget-view+json": {
       "model_id": "8ae8f57284d640ff94a0466d319d1797",
       "version_major": 2,
       "version_minor": 0
      },
      "text/plain": [
       "Sanity Checking: |          | 0/? [00:00<?, ?it/s]"
      ]
     },
     "metadata": {},
     "output_type": "display_data"
    },
    {
     "data": {
      "application/vnd.jupyter.widget-view+json": {
       "model_id": "64a3b03bdd524111bc4912f50c9c8dbc",
       "version_major": 2,
       "version_minor": 0
      },
      "text/plain": [
       "Training: |          | 0/? [00:00<?, ?it/s]"
      ]
     },
     "metadata": {},
     "output_type": "display_data"
    },
    {
     "data": {
      "application/vnd.jupyter.widget-view+json": {
       "model_id": "78aa2c830918479c8e14be6817056754",
       "version_major": 2,
       "version_minor": 0
      },
      "text/plain": [
       "Validation: |          | 0/? [00:00<?, ?it/s]"
      ]
     },
     "metadata": {},
     "output_type": "display_data"
    },
    {
     "data": {
      "application/vnd.jupyter.widget-view+json": {
       "model_id": "47e8634884ee4173bcafcb9e5a0210e9",
       "version_major": 2,
       "version_minor": 0
      },
      "text/plain": [
       "Validation: |          | 0/? [00:00<?, ?it/s]"
      ]
     },
     "metadata": {},
     "output_type": "display_data"
    },
    {
     "data": {
      "application/vnd.jupyter.widget-view+json": {
       "model_id": "73e04181060647f7823cf9090dff0259",
       "version_major": 2,
       "version_minor": 0
      },
      "text/plain": [
       "Validation: |          | 0/? [00:00<?, ?it/s]"
      ]
     },
     "metadata": {},
     "output_type": "display_data"
    },
    {
     "data": {
      "application/vnd.jupyter.widget-view+json": {
       "model_id": "ae3376eb07834f48aef38846428c8a71",
       "version_major": 2,
       "version_minor": 0
      },
      "text/plain": [
       "Validation: |          | 0/? [00:00<?, ?it/s]"
      ]
     },
     "metadata": {},
     "output_type": "display_data"
    },
    {
     "data": {
      "application/vnd.jupyter.widget-view+json": {
       "model_id": "a2b8d79c8cb24680ba74b2ea38187100",
       "version_major": 2,
       "version_minor": 0
      },
      "text/plain": [
       "Validation: |          | 0/? [00:00<?, ?it/s]"
      ]
     },
     "metadata": {},
     "output_type": "display_data"
    },
    {
     "name": "stderr",
     "output_type": "stream",
     "text": [
      "`Trainer.fit` stopped: `max_epochs=5` reached.\n"
     ]
    },
    {
     "data": {
      "text/html": [
       "<style>#sk-4c8a30a5-332c-4370-a67e-ce41b6021dc9 {color: black;background-color: white;}#sk-4c8a30a5-332c-4370-a67e-ce41b6021dc9 pre{padding: 0;}#sk-4c8a30a5-332c-4370-a67e-ce41b6021dc9 div.sk-toggleable {background-color: white;}#sk-4c8a30a5-332c-4370-a67e-ce41b6021dc9 label.sk-toggleable__label {cursor: pointer;display: block;width: 100%;margin-bottom: 0;padding: 0.3em;box-sizing: border-box;text-align: center;}#sk-4c8a30a5-332c-4370-a67e-ce41b6021dc9 label.sk-toggleable__label-arrow:before {content: \"▸\";float: left;margin-right: 0.25em;color: #696969;}#sk-4c8a30a5-332c-4370-a67e-ce41b6021dc9 label.sk-toggleable__label-arrow:hover:before {color: black;}#sk-4c8a30a5-332c-4370-a67e-ce41b6021dc9 div.sk-estimator:hover label.sk-toggleable__label-arrow:before {color: black;}#sk-4c8a30a5-332c-4370-a67e-ce41b6021dc9 div.sk-toggleable__content {max-height: 0;max-width: 0;overflow: hidden;text-align: left;background-color: #f0f8ff;}#sk-4c8a30a5-332c-4370-a67e-ce41b6021dc9 div.sk-toggleable__content pre {margin: 0.2em;color: black;border-radius: 0.25em;background-color: #f0f8ff;}#sk-4c8a30a5-332c-4370-a67e-ce41b6021dc9 input.sk-toggleable__control:checked~div.sk-toggleable__content {max-height: 200px;max-width: 100%;overflow: auto;}#sk-4c8a30a5-332c-4370-a67e-ce41b6021dc9 input.sk-toggleable__control:checked~label.sk-toggleable__label-arrow:before {content: \"▾\";}#sk-4c8a30a5-332c-4370-a67e-ce41b6021dc9 div.sk-estimator input.sk-toggleable__control:checked~label.sk-toggleable__label {background-color: #d4ebff;}#sk-4c8a30a5-332c-4370-a67e-ce41b6021dc9 div.sk-label input.sk-toggleable__control:checked~label.sk-toggleable__label {background-color: #d4ebff;}#sk-4c8a30a5-332c-4370-a67e-ce41b6021dc9 input.sk-hidden--visually {border: 0;clip: rect(1px 1px 1px 1px);clip: rect(1px, 1px, 1px, 1px);height: 1px;margin: -1px;overflow: hidden;padding: 0;position: absolute;width: 1px;}#sk-4c8a30a5-332c-4370-a67e-ce41b6021dc9 div.sk-estimator {font-family: monospace;background-color: #f0f8ff;border: 1px dotted black;border-radius: 0.25em;box-sizing: border-box;margin-bottom: 0.5em;}#sk-4c8a30a5-332c-4370-a67e-ce41b6021dc9 div.sk-estimator:hover {background-color: #d4ebff;}#sk-4c8a30a5-332c-4370-a67e-ce41b6021dc9 div.sk-parallel-item::after {content: \"\";width: 100%;border-bottom: 1px solid gray;flex-grow: 1;}#sk-4c8a30a5-332c-4370-a67e-ce41b6021dc9 div.sk-label:hover label.sk-toggleable__label {background-color: #d4ebff;}#sk-4c8a30a5-332c-4370-a67e-ce41b6021dc9 div.sk-serial::before {content: \"\";position: absolute;border-left: 1px solid gray;box-sizing: border-box;top: 2em;bottom: 0;left: 50%;}#sk-4c8a30a5-332c-4370-a67e-ce41b6021dc9 div.sk-serial {display: flex;flex-direction: column;align-items: center;background-color: white;padding-right: 0.2em;padding-left: 0.2em;}#sk-4c8a30a5-332c-4370-a67e-ce41b6021dc9 div.sk-item {z-index: 1;}#sk-4c8a30a5-332c-4370-a67e-ce41b6021dc9 div.sk-parallel {display: flex;align-items: stretch;justify-content: center;background-color: white;}#sk-4c8a30a5-332c-4370-a67e-ce41b6021dc9 div.sk-parallel::before {content: \"\";position: absolute;border-left: 1px solid gray;box-sizing: border-box;top: 2em;bottom: 0;left: 50%;}#sk-4c8a30a5-332c-4370-a67e-ce41b6021dc9 div.sk-parallel-item {display: flex;flex-direction: column;position: relative;background-color: white;}#sk-4c8a30a5-332c-4370-a67e-ce41b6021dc9 div.sk-parallel-item:first-child::after {align-self: flex-end;width: 50%;}#sk-4c8a30a5-332c-4370-a67e-ce41b6021dc9 div.sk-parallel-item:last-child::after {align-self: flex-start;width: 50%;}#sk-4c8a30a5-332c-4370-a67e-ce41b6021dc9 div.sk-parallel-item:only-child::after {width: 0;}#sk-4c8a30a5-332c-4370-a67e-ce41b6021dc9 div.sk-dashed-wrapped {border: 1px dashed gray;margin: 0 0.4em 0.5em 0.4em;box-sizing: border-box;padding-bottom: 0.4em;background-color: white;position: relative;}#sk-4c8a30a5-332c-4370-a67e-ce41b6021dc9 div.sk-label label {font-family: monospace;font-weight: bold;background-color: white;display: inline-block;line-height: 1.2em;}#sk-4c8a30a5-332c-4370-a67e-ce41b6021dc9 div.sk-label-container {position: relative;z-index: 2;text-align: center;}#sk-4c8a30a5-332c-4370-a67e-ce41b6021dc9 div.sk-container {/* jupyter's `normalize.less` sets `[hidden] { display: none; }` but bootstrap.min.css set `[hidden] { display: none !important; }` so we also need the `!important` here to be able to override the default hidden behavior on the sphinx rendered scikit-learn.org. See: https://github.com/scikit-learn/scikit-learn/issues/21755 */display: inline-block !important;position: relative;}#sk-4c8a30a5-332c-4370-a67e-ce41b6021dc9 div.sk-text-repr-fallback {display: none;}</style><div id='sk-4c8a30a5-332c-4370-a67e-ce41b6021dc9' class=\"sk-top-container\"><div class=\"sk-text-repr-fallback\"><pre>PytorchForecastingNBeats(dataset_params={&#x27;max_encoder_length&#x27;: 3},\n",
       "                         trainer_params={&#x27;limit_train_batches&#x27;: 50,\n",
       "                                         &#x27;max_epochs&#x27;: 5})</pre><b>Please rerun this cell to show the HTML repr or trust the notebook.</b></div><div class=\"sk-container\" hidden><div class='sk-item'><div class=\"sk-estimator sk-toggleable\"><input class=\"sk-toggleable__control sk-hidden--visually\" id=UUID('ef179a2f-421a-47bc-ab99-ba11e6fb0f26') type=\"checkbox\" checked><label for=UUID('ef179a2f-421a-47bc-ab99-ba11e6fb0f26') class='sk-toggleable__label sk-toggleable__label-arrow'>PytorchForecastingNBeats</label><div class=\"sk-toggleable__content\"><pre>PytorchForecastingNBeats(dataset_params={&#x27;max_encoder_length&#x27;: 3},\n",
       "                         trainer_params={&#x27;limit_train_batches&#x27;: 50,\n",
       "                                         &#x27;max_epochs&#x27;: 5})</pre></div></div></div></div></div>"
      ],
      "text/plain": [
       "PytorchForecastingNBeats(dataset_params={'max_encoder_length': 3},\n",
       "                         trainer_params={'limit_train_batches': 50,\n",
       "                                         'max_epochs': 5})"
      ]
     },
     "execution_count": 62,
     "metadata": {},
     "output_type": "execute_result"
    }
   ],
   "source": [
    "from sktime.forecasting.base import ForecastingHorizon\n",
    "\n",
    "fh = ForecastingHorizon([1, 2, 3], is_relative=True)\n",
    "model.fit(y=y_train, fh=fh)"
   ]
  },
  {
   "cell_type": "markdown",
   "metadata": {},
   "source": [
    "Then we can predict on `y_test` which is not included in `y_train`."
   ]
  },
  {
   "cell_type": "code",
   "execution_count": 63,
   "metadata": {},
   "outputs": [
    {
     "name": "stderr",
     "output_type": "stream",
     "text": [
      "GPU available: True (cuda), used: True\n",
      "TPU available: False, using: 0 TPU cores\n",
      "IPU available: False, using: 0 IPUs\n",
      "HPU available: False, using: 0 HPUs\n",
      "LOCAL_RANK: 0 - CUDA_VISIBLE_DEVICES: [0]\n"
     ]
    },
    {
     "data": {
      "text/html": [
       "<div>\n",
       "<style scoped>\n",
       "    .dataframe tbody tr th:only-of-type {\n",
       "        vertical-align: middle;\n",
       "    }\n",
       "\n",
       "    .dataframe tbody tr th {\n",
       "        vertical-align: top;\n",
       "    }\n",
       "\n",
       "    .dataframe thead th {\n",
       "        text-align: right;\n",
       "    }\n",
       "</style>\n",
       "<table border=\"1\" class=\"dataframe\">\n",
       "  <thead>\n",
       "    <tr style=\"text-align: right;\">\n",
       "      <th></th>\n",
       "      <th></th>\n",
       "      <th>c0</th>\n",
       "    </tr>\n",
       "    <tr>\n",
       "      <th>h0</th>\n",
       "      <th>time</th>\n",
       "      <th></th>\n",
       "    </tr>\n",
       "  </thead>\n",
       "  <tbody>\n",
       "    <tr>\n",
       "      <th rowspan=\"3\" valign=\"top\">h0_90</th>\n",
       "      <th>2000-01-11</th>\n",
       "      <td>4.152288</td>\n",
       "    </tr>\n",
       "    <tr>\n",
       "      <th>2000-01-12</th>\n",
       "      <td>3.907635</td>\n",
       "    </tr>\n",
       "    <tr>\n",
       "      <th>2000-01-13</th>\n",
       "      <td>3.760190</td>\n",
       "    </tr>\n",
       "    <tr>\n",
       "      <th rowspan=\"3\" valign=\"top\">h0_91</th>\n",
       "      <th>2000-01-11</th>\n",
       "      <td>4.601761</td>\n",
       "    </tr>\n",
       "    <tr>\n",
       "      <th>2000-01-12</th>\n",
       "      <td>4.594269</td>\n",
       "    </tr>\n",
       "    <tr>\n",
       "      <th>2000-01-13</th>\n",
       "      <td>4.606614</td>\n",
       "    </tr>\n",
       "    <tr>\n",
       "      <th rowspan=\"3\" valign=\"top\">h0_92</th>\n",
       "      <th>2000-01-11</th>\n",
       "      <td>5.176336</td>\n",
       "    </tr>\n",
       "    <tr>\n",
       "      <th>2000-01-12</th>\n",
       "      <td>5.179501</td>\n",
       "    </tr>\n",
       "    <tr>\n",
       "      <th>2000-01-13</th>\n",
       "      <td>5.215404</td>\n",
       "    </tr>\n",
       "    <tr>\n",
       "      <th rowspan=\"3\" valign=\"top\">h0_93</th>\n",
       "      <th>2000-01-11</th>\n",
       "      <td>4.319064</td>\n",
       "    </tr>\n",
       "    <tr>\n",
       "      <th>2000-01-12</th>\n",
       "      <td>4.072730</td>\n",
       "    </tr>\n",
       "    <tr>\n",
       "      <th>2000-01-13</th>\n",
       "      <td>3.933773</td>\n",
       "    </tr>\n",
       "    <tr>\n",
       "      <th rowspan=\"3\" valign=\"top\">h0_94</th>\n",
       "      <th>2000-01-11</th>\n",
       "      <td>4.658298</td>\n",
       "    </tr>\n",
       "    <tr>\n",
       "      <th>2000-01-12</th>\n",
       "      <td>4.658960</td>\n",
       "    </tr>\n",
       "    <tr>\n",
       "      <th>2000-01-13</th>\n",
       "      <td>4.677829</td>\n",
       "    </tr>\n",
       "    <tr>\n",
       "      <th rowspan=\"3\" valign=\"top\">h0_95</th>\n",
       "      <th>2000-01-11</th>\n",
       "      <td>4.688289</td>\n",
       "    </tr>\n",
       "    <tr>\n",
       "      <th>2000-01-12</th>\n",
       "      <td>4.680397</td>\n",
       "    </tr>\n",
       "    <tr>\n",
       "      <th>2000-01-13</th>\n",
       "      <td>4.684800</td>\n",
       "    </tr>\n",
       "    <tr>\n",
       "      <th rowspan=\"3\" valign=\"top\">h0_96</th>\n",
       "      <th>2000-01-11</th>\n",
       "      <td>4.680850</td>\n",
       "    </tr>\n",
       "    <tr>\n",
       "      <th>2000-01-12</th>\n",
       "      <td>4.758391</td>\n",
       "    </tr>\n",
       "    <tr>\n",
       "      <th>2000-01-13</th>\n",
       "      <td>4.820650</td>\n",
       "    </tr>\n",
       "    <tr>\n",
       "      <th rowspan=\"3\" valign=\"top\">h0_97</th>\n",
       "      <th>2000-01-11</th>\n",
       "      <td>5.032910</td>\n",
       "    </tr>\n",
       "    <tr>\n",
       "      <th>2000-01-12</th>\n",
       "      <td>5.041520</td>\n",
       "    </tr>\n",
       "    <tr>\n",
       "      <th>2000-01-13</th>\n",
       "      <td>5.050514</td>\n",
       "    </tr>\n",
       "    <tr>\n",
       "      <th rowspan=\"3\" valign=\"top\">h0_98</th>\n",
       "      <th>2000-01-11</th>\n",
       "      <td>4.799837</td>\n",
       "    </tr>\n",
       "    <tr>\n",
       "      <th>2000-01-12</th>\n",
       "      <td>4.829140</td>\n",
       "    </tr>\n",
       "    <tr>\n",
       "      <th>2000-01-13</th>\n",
       "      <td>4.860519</td>\n",
       "    </tr>\n",
       "    <tr>\n",
       "      <th rowspan=\"3\" valign=\"top\">h0_99</th>\n",
       "      <th>2000-01-11</th>\n",
       "      <td>5.049038</td>\n",
       "    </tr>\n",
       "    <tr>\n",
       "      <th>2000-01-12</th>\n",
       "      <td>5.189664</td>\n",
       "    </tr>\n",
       "    <tr>\n",
       "      <th>2000-01-13</th>\n",
       "      <td>5.280043</td>\n",
       "    </tr>\n",
       "  </tbody>\n",
       "</table>\n",
       "</div>"
      ],
      "text/plain": [
       "                        c0\n",
       "h0    time                \n",
       "h0_90 2000-01-11  4.152288\n",
       "      2000-01-12  3.907635\n",
       "      2000-01-13  3.760190\n",
       "h0_91 2000-01-11  4.601761\n",
       "      2000-01-12  4.594269\n",
       "      2000-01-13  4.606614\n",
       "h0_92 2000-01-11  5.176336\n",
       "      2000-01-12  5.179501\n",
       "      2000-01-13  5.215404\n",
       "h0_93 2000-01-11  4.319064\n",
       "      2000-01-12  4.072730\n",
       "      2000-01-13  3.933773\n",
       "h0_94 2000-01-11  4.658298\n",
       "      2000-01-12  4.658960\n",
       "      2000-01-13  4.677829\n",
       "h0_95 2000-01-11  4.688289\n",
       "      2000-01-12  4.680397\n",
       "      2000-01-13  4.684800\n",
       "h0_96 2000-01-11  4.680850\n",
       "      2000-01-12  4.758391\n",
       "      2000-01-13  4.820650\n",
       "h0_97 2000-01-11  5.032910\n",
       "      2000-01-12  5.041520\n",
       "      2000-01-13  5.050514\n",
       "h0_98 2000-01-11  4.799837\n",
       "      2000-01-12  4.829140\n",
       "      2000-01-13  4.860519\n",
       "h0_99 2000-01-11  5.049038\n",
       "      2000-01-12  5.189664\n",
       "      2000-01-13  5.280043"
      ]
     },
     "execution_count": 63,
     "metadata": {},
     "output_type": "execute_result"
    }
   ],
   "source": [
    "y_pred = model.predict(y=y_test, fh=fh)\n",
    "y_pred"
   ]
  },
  {
   "cell_type": "markdown",
   "metadata": {},
   "source": [
    "`y_pred` have the same instance index as `y_test` which is `h0_90` to `h0_99`."
   ]
  },
  {
   "cell_type": "markdown",
   "metadata": {},
   "source": [
    "We can plot one series to see the result. As we are using random data and only train the model for a few epochs, we can not expect too much."
   ]
  },
  {
   "cell_type": "code",
   "execution_count": 64,
   "metadata": {},
   "outputs": [
    {
     "data": {
      "text/plain": [
       "(<Figure size 1600x400 with 1 Axes>, <Axes: ylabel='c0'>)"
      ]
     },
     "execution_count": 64,
     "metadata": {},
     "output_type": "execute_result"
    },
    {
     "data": {
      "image/png": "[encoded data removed]",
      "text/plain": [
       "<Figure size 1600x400 with 1 Axes>"
      ]
     },
     "metadata": {},
     "output_type": "display_data"
    }
   ],
   "source": [
    "from sktime.utils.plotting import plot_series\n",
    "\n",
    "plot_series(\n",
    "    y_test.loc[(\"h0_99\")],\n",
    "    y_pred.loc[(\"h0_99\")],\n",
    "    labels=[\"y\", \"y_pred\"],\n",
    ")"
   ]
  },
  {
   "cell_type": "markdown",
   "metadata": {},
   "source": [
    "### Global Forecast with exogeneous data"
   ]
  },
  {
   "cell_type": "markdown",
   "metadata": {},
   "source": [
    "When we predict with exogeneous data, we need to pass both `X` and `y` to `predict`.\n",
    "\n",
    "`X` must contain all historical values and the time points to be predicted while `y` should only contain the historical values but not the time points to be predicted."
   ]
  },
  {
   "cell_type": "code",
   "execution_count": 65,
   "metadata": {},
   "outputs": [],
   "source": [
    "from sktime.utils._testing.hierarchical import _make_hierarchical\n",
    "from sklearn.model_selection import train_test_split\n",
    "\n",
    "data = _make_hierarchical(\n",
    "    hierarchy_levels=(100, 1), max_timepoints=10, min_timepoints=10, n_columns=2\n",
    ")\n",
    "data = data.droplevel(1)\n",
    "x = data[\"c0\"].to_frame()\n",
    "y = data[\"c1\"].to_frame()\n",
    "X_train, X_test, y_train, y_test = train_test_split(\n",
    "    x, y, test_size=0.1, train_size=0.9, shuffle=False\n",
    ")\n",
    "y_test = y_test.groupby(level=0).apply(\n",
    "    lambda x: x.droplevel(0).iloc[:-3]\n",
    ")"
   ]
  },
  {
   "cell_type": "markdown",
   "metadata": {},
   "source": [
    "`X_train` and `y_train` have the same time index from 2000-01-01 to 2000-01-10.\n",
    "\n",
    "However `y_test` is shorter than `X_test`. \n",
    "\n",
    "`X_test` has the time index from 2000-01-01 to 2000-01-10 but `y_test` only has the time index from 2000-01-01 to 2000-01-07. \n",
    "\n",
    "This is because we don't know the values from 2000-01-08 to 2000-01-10 of `y_test` which are going to be forecasted."
   ]
  },
  {
   "cell_type": "code",
   "execution_count": 66,
   "metadata": {},
   "outputs": [
    {
     "data": {
      "text/html": [
       "<div>\n",
       "<style scoped>\n",
       "    .dataframe tbody tr th:only-of-type {\n",
       "        vertical-align: middle;\n",
       "    }\n",
       "\n",
       "    .dataframe tbody tr th {\n",
       "        vertical-align: top;\n",
       "    }\n",
       "\n",
       "    .dataframe thead th {\n",
       "        text-align: right;\n",
       "    }\n",
       "</style>\n",
       "<table border=\"1\" class=\"dataframe\">\n",
       "  <thead>\n",
       "    <tr style=\"text-align: right;\">\n",
       "      <th></th>\n",
       "      <th></th>\n",
       "      <th>c1</th>\n",
       "    </tr>\n",
       "    <tr>\n",
       "      <th>h0</th>\n",
       "      <th>time</th>\n",
       "      <th></th>\n",
       "    </tr>\n",
       "  </thead>\n",
       "  <tbody>\n",
       "    <tr>\n",
       "      <th rowspan=\"5\" valign=\"top\">h0_90</th>\n",
       "      <th>2000-01-01</th>\n",
       "      <td>2.651002</td>\n",
       "    </tr>\n",
       "    <tr>\n",
       "      <th>2000-01-02</th>\n",
       "      <td>3.844442</td>\n",
       "    </tr>\n",
       "    <tr>\n",
       "      <th>2000-01-03</th>\n",
       "      <td>3.762375</td>\n",
       "    </tr>\n",
       "    <tr>\n",
       "      <th>2000-01-04</th>\n",
       "      <td>4.193379</td>\n",
       "    </tr>\n",
       "    <tr>\n",
       "      <th>2000-01-05</th>\n",
       "      <td>4.017538</td>\n",
       "    </tr>\n",
       "    <tr>\n",
       "      <th>...</th>\n",
       "      <th>...</th>\n",
       "      <td>...</td>\n",
       "    </tr>\n",
       "    <tr>\n",
       "      <th rowspan=\"5\" valign=\"top\">h0_99</th>\n",
       "      <th>2000-01-03</th>\n",
       "      <td>5.368671</td>\n",
       "    </tr>\n",
       "    <tr>\n",
       "      <th>2000-01-04</th>\n",
       "      <td>6.380405</td>\n",
       "    </tr>\n",
       "    <tr>\n",
       "      <th>2000-01-05</th>\n",
       "      <td>3.174925</td>\n",
       "    </tr>\n",
       "    <tr>\n",
       "      <th>2000-01-06</th>\n",
       "      <td>3.798668</td>\n",
       "    </tr>\n",
       "    <tr>\n",
       "      <th>2000-01-07</th>\n",
       "      <td>2.647241</td>\n",
       "    </tr>\n",
       "  </tbody>\n",
       "</table>\n",
       "<p>70 rows × 1 columns</p>\n",
       "</div>"
      ],
      "text/plain": [
       "                        c1\n",
       "h0    time                \n",
       "h0_90 2000-01-01  2.651002\n",
       "      2000-01-02  3.844442\n",
       "      2000-01-03  3.762375\n",
       "      2000-01-04  4.193379\n",
       "      2000-01-05  4.017538\n",
       "...                    ...\n",
       "h0_99 2000-01-03  5.368671\n",
       "      2000-01-04  6.380405\n",
       "      2000-01-05  3.174925\n",
       "      2000-01-06  3.798668\n",
       "      2000-01-07  2.647241\n",
       "\n",
       "[70 rows x 1 columns]"
      ]
     },
     "execution_count": 66,
     "metadata": {},
     "output_type": "execute_result"
    }
   ],
   "source": [
    "y_test"
   ]
  },
  {
   "cell_type": "markdown",
   "metadata": {},
   "source": [
    "`y_test` is shorter than `X_test` as `y_test` only contains the historical values not the time points to be predicted."
   ]
  },
  {
   "cell_type": "markdown",
   "metadata": {},
   "source": [
    "Let's initialize a global forecaster which can handle exogeneous data."
   ]
  },
  {
   "cell_type": "code",
   "execution_count": 67,
   "metadata": {},
   "outputs": [],
   "source": [
    "from sktime.forecasting.pytorchforecasting import PytorchForecastingTFT"
   ]
  },
  {
   "cell_type": "code",
   "execution_count": 68,
   "metadata": {},
   "outputs": [],
   "source": [
    "model = PytorchForecastingTFT(\n",
    "    trainer_params={\n",
    "        \"max_epochs\": 5,  # for quick test\n",
    "        \"limit_train_batches\": 10,  # for quick test\n",
    "    },\n",
    "    dataset_params={\n",
    "        \"max_encoder_length\": 3,\n",
    "    },\n",
    ")"
   ]
  },
  {
   "cell_type": "code",
   "execution_count": 69,
   "metadata": {},
   "outputs": [
    {
     "name": "stderr",
     "output_type": "stream",
     "text": [
      "GPU available: True (cuda), used: True\n",
      "TPU available: False, using: 0 TPU cores\n",
      "IPU available: False, using: 0 IPUs\n",
      "HPU available: False, using: 0 HPUs\n",
      "LOCAL_RANK: 0 - CUDA_VISIBLE_DEVICES: [0]\n",
      "\n",
      "   | Name                               | Type                            | Params\n",
      "----------------------------------------------------------------------------------------\n",
      "0  | loss                               | QuantileLoss                    | 0     \n",
      "1  | logging_metrics                    | ModuleList                      | 0     \n",
      "2  | input_embeddings                   | MultiEmbedding                  | 0     \n",
      "3  | prescalers                         | ModuleDict                      | 32    \n",
      "4  | static_variable_selection          | VariableSelectionNetwork        | 0     \n",
      "5  | encoder_variable_selection         | VariableSelectionNetwork        | 1.2 K \n",
      "6  | decoder_variable_selection         | VariableSelectionNetwork        | 528   \n",
      "7  | static_context_variable_selection  | GatedResidualNetwork            | 1.1 K \n",
      "8  | static_context_initial_hidden_lstm | GatedResidualNetwork            | 1.1 K \n",
      "9  | static_context_initial_cell_lstm   | GatedResidualNetwork            | 1.1 K \n",
      "10 | static_context_enrichment          | GatedResidualNetwork            | 1.1 K \n",
      "11 | lstm_encoder                       | LSTM                            | 2.2 K \n",
      "12 | lstm_decoder                       | LSTM                            | 2.2 K \n",
      "13 | post_lstm_gate_encoder             | GatedLinearUnit                 | 544   \n",
      "14 | post_lstm_add_norm_encoder         | AddNorm                         | 32    \n",
      "15 | static_enrichment                  | GatedResidualNetwork            | 1.4 K \n",
      "16 | multihead_attn                     | InterpretableMultiHeadAttention | 676   \n",
      "17 | post_attn_gate_norm                | GateAddNorm                     | 576   \n",
      "18 | pos_wise_ff                        | GatedResidualNetwork            | 1.1 K \n",
      "19 | pre_output_gate_norm               | GateAddNorm                     | 576   \n",
      "20 | output_layer                       | Linear                          | 119   \n",
      "----------------------------------------------------------------------------------------\n",
      "15.5 K    Trainable params\n",
      "0         Non-trainable params\n",
      "15.5 K    Total params\n",
      "0.062     Total estimated model params size (MB)\n"
     ]
    },
    {
     "data": {
      "application/vnd.jupyter.widget-view+json": {
       "model_id": "22af3678b717471186fa35fd62559129",
       "version_major": 2,
       "version_minor": 0
      },
      "text/plain": [
       "Sanity Checking: |          | 0/? [00:00<?, ?it/s]"
      ]
     },
     "metadata": {},
     "output_type": "display_data"
    },
    {
     "data": {
      "application/vnd.jupyter.widget-view+json": {
       "model_id": "568763decd184c5eaff6197545f9981b",
       "version_major": 2,
       "version_minor": 0
      },
      "text/plain": [
       "Training: |          | 0/? [00:00<?, ?it/s]"
      ]
     },
     "metadata": {},
     "output_type": "display_data"
    },
    {
     "data": {
      "application/vnd.jupyter.widget-view+json": {
       "model_id": "36941f8ce5ce4a3b93b73410b0dccb64",
       "version_major": 2,
       "version_minor": 0
      },
      "text/plain": [
       "Validation: |          | 0/? [00:00<?, ?it/s]"
      ]
     },
     "metadata": {},
     "output_type": "display_data"
    },
    {
     "data": {
      "application/vnd.jupyter.widget-view+json": {
       "model_id": "23b5a408307948059088b88f7af31bf6",
       "version_major": 2,
       "version_minor": 0
      },
      "text/plain": [
       "Validation: |          | 0/? [00:00<?, ?it/s]"
      ]
     },
     "metadata": {},
     "output_type": "display_data"
    },
    {
     "data": {
      "application/vnd.jupyter.widget-view+json": {
       "model_id": "b1e44c1378984134bc0d648a699e6e6b",
       "version_major": 2,
       "version_minor": 0
      },
      "text/plain": [
       "Validation: |          | 0/? [00:00<?, ?it/s]"
      ]
     },
     "metadata": {},
     "output_type": "display_data"
    },
    {
     "data": {
      "application/vnd.jupyter.widget-view+json": {
       "model_id": "d6c259c29c1f436db4683e5b8223fc7c",
       "version_major": 2,
       "version_minor": 0
      },
      "text/plain": [
       "Validation: |          | 0/? [00:00<?, ?it/s]"
      ]
     },
     "metadata": {},
     "output_type": "display_data"
    },
    {
     "data": {
      "application/vnd.jupyter.widget-view+json": {
       "model_id": "f2d087ad9db8400ab5b70d2e4d652c6f",
       "version_major": 2,
       "version_minor": 0
      },
      "text/plain": [
       "Validation: |          | 0/? [00:00<?, ?it/s]"
      ]
     },
     "metadata": {},
     "output_type": "display_data"
    },
    {
     "name": "stderr",
     "output_type": "stream",
     "text": [
      "`Trainer.fit` stopped: `max_epochs=5` reached.\n"
     ]
    },
    {
     "data": {
      "text/html": [
       "<style>#sk-1db27efe-0c23-4f35-8506-03a31d9ce9c4 {color: black;background-color: white;}#sk-1db27efe-0c23-4f35-8506-03a31d9ce9c4 pre{padding: 0;}#sk-1db27efe-0c23-4f35-8506-03a31d9ce9c4 div.sk-toggleable {background-color: white;}#sk-1db27efe-0c23-4f35-8506-03a31d9ce9c4 label.sk-toggleable__label {cursor: pointer;display: block;width: 100%;margin-bottom: 0;padding: 0.3em;box-sizing: border-box;text-align: center;}#sk-1db27efe-0c23-4f35-8506-03a31d9ce9c4 label.sk-toggleable__label-arrow:before {content: \"▸\";float: left;margin-right: 0.25em;color: #696969;}#sk-1db27efe-0c23-4f35-8506-03a31d9ce9c4 label.sk-toggleable__label-arrow:hover:before {color: black;}#sk-1db27efe-0c23-4f35-8506-03a31d9ce9c4 div.sk-estimator:hover label.sk-toggleable__label-arrow:before {color: black;}#sk-1db27efe-0c23-4f35-8506-03a31d9ce9c4 div.sk-toggleable__content {max-height: 0;max-width: 0;overflow: hidden;text-align: left;background-color: #f0f8ff;}#sk-1db27efe-0c23-4f35-8506-03a31d9ce9c4 div.sk-toggleable__content pre {margin: 0.2em;color: black;border-radius: 0.25em;background-color: #f0f8ff;}#sk-1db27efe-0c23-4f35-8506-03a31d9ce9c4 input.sk-toggleable__control:checked~div.sk-toggleable__content {max-height: 200px;max-width: 100%;overflow: auto;}#sk-1db27efe-0c23-4f35-8506-03a31d9ce9c4 input.sk-toggleable__control:checked~label.sk-toggleable__label-arrow:before {content: \"▾\";}#sk-1db27efe-0c23-4f35-8506-03a31d9ce9c4 div.sk-estimator input.sk-toggleable__control:checked~label.sk-toggleable__label {background-color: #d4ebff;}#sk-1db27efe-0c23-4f35-8506-03a31d9ce9c4 div.sk-label input.sk-toggleable__control:checked~label.sk-toggleable__label {background-color: #d4ebff;}#sk-1db27efe-0c23-4f35-8506-03a31d9ce9c4 input.sk-hidden--visually {border: 0;clip: rect(1px 1px 1px 1px);clip: rect(1px, 1px, 1px, 1px);height: 1px;margin: -1px;overflow: hidden;padding: 0;position: absolute;width: 1px;}#sk-1db27efe-0c23-4f35-8506-03a31d9ce9c4 div.sk-estimator {font-family: monospace;background-color: #f0f8ff;border: 1px dotted black;border-radius: 0.25em;box-sizing: border-box;margin-bottom: 0.5em;}#sk-1db27efe-0c23-4f35-8506-03a31d9ce9c4 div.sk-estimator:hover {background-color: #d4ebff;}#sk-1db27efe-0c23-4f35-8506-03a31d9ce9c4 div.sk-parallel-item::after {content: \"\";width: 100%;border-bottom: 1px solid gray;flex-grow: 1;}#sk-1db27efe-0c23-4f35-8506-03a31d9ce9c4 div.sk-label:hover label.sk-toggleable__label {background-color: #d4ebff;}#sk-1db27efe-0c23-4f35-8506-03a31d9ce9c4 div.sk-serial::before {content: \"\";position: absolute;border-left: 1px solid gray;box-sizing: border-box;top: 2em;bottom: 0;left: 50%;}#sk-1db27efe-0c23-4f35-8506-03a31d9ce9c4 div.sk-serial {display: flex;flex-direction: column;align-items: center;background-color: white;padding-right: 0.2em;padding-left: 0.2em;}#sk-1db27efe-0c23-4f35-8506-03a31d9ce9c4 div.sk-item {z-index: 1;}#sk-1db27efe-0c23-4f35-8506-03a31d9ce9c4 div.sk-parallel {display: flex;align-items: stretch;justify-content: center;background-color: white;}#sk-1db27efe-0c23-4f35-8506-03a31d9ce9c4 div.sk-parallel::before {content: \"\";position: absolute;border-left: 1px solid gray;box-sizing: border-box;top: 2em;bottom: 0;left: 50%;}#sk-1db27efe-0c23-4f35-8506-03a31d9ce9c4 div.sk-parallel-item {display: flex;flex-direction: column;position: relative;background-color: white;}#sk-1db27efe-0c23-4f35-8506-03a31d9ce9c4 div.sk-parallel-item:first-child::after {align-self: flex-end;width: 50%;}#sk-1db27efe-0c23-4f35-8506-03a31d9ce9c4 div.sk-parallel-item:last-child::after {align-self: flex-start;width: 50%;}#sk-1db27efe-0c23-4f35-8506-03a31d9ce9c4 div.sk-parallel-item:only-child::after {width: 0;}#sk-1db27efe-0c23-4f35-8506-03a31d9ce9c4 div.sk-dashed-wrapped {border: 1px dashed gray;margin: 0 0.4em 0.5em 0.4em;box-sizing: border-box;padding-bottom: 0.4em;background-color: white;position: relative;}#sk-1db27efe-0c23-4f35-8506-03a31d9ce9c4 div.sk-label label {font-family: monospace;font-weight: bold;background-color: white;display: inline-block;line-height: 1.2em;}#sk-1db27efe-0c23-4f35-8506-03a31d9ce9c4 div.sk-label-container {position: relative;z-index: 2;text-align: center;}#sk-1db27efe-0c23-4f35-8506-03a31d9ce9c4 div.sk-container {/* jupyter's `normalize.less` sets `[hidden] { display: none; }` but bootstrap.min.css set `[hidden] { display: none !important; }` so we also need the `!important` here to be able to override the default hidden behavior on the sphinx rendered scikit-learn.org. See: https://github.com/scikit-learn/scikit-learn/issues/21755 */display: inline-block !important;position: relative;}#sk-1db27efe-0c23-4f35-8506-03a31d9ce9c4 div.sk-text-repr-fallback {display: none;}</style><div id='sk-1db27efe-0c23-4f35-8506-03a31d9ce9c4' class=\"sk-top-container\"><div class=\"sk-text-repr-fallback\"><pre>PytorchForecastingTFT(dataset_params={&#x27;max_encoder_length&#x27;: 3},\n",
       "                      trainer_params={&#x27;limit_train_batches&#x27;: 10,\n",
       "                                      &#x27;max_epochs&#x27;: 5})</pre><b>Please rerun this cell to show the HTML repr or trust the notebook.</b></div><div class=\"sk-container\" hidden><div class='sk-item'><div class=\"sk-estimator sk-toggleable\"><input class=\"sk-toggleable__control sk-hidden--visually\" id=UUID('e8b6031b-92f0-4fb9-ae4b-0c08c9b35fb0') type=\"checkbox\" checked><label for=UUID('e8b6031b-92f0-4fb9-ae4b-0c08c9b35fb0') class='sk-toggleable__label sk-toggleable__label-arrow'>PytorchForecastingTFT</label><div class=\"sk-toggleable__content\"><pre>PytorchForecastingTFT(dataset_params={&#x27;max_encoder_length&#x27;: 3},\n",
       "                      trainer_params={&#x27;limit_train_batches&#x27;: 10,\n",
       "                                      &#x27;max_epochs&#x27;: 5})</pre></div></div></div></div></div>"
      ],
      "text/plain": [
       "PytorchForecastingTFT(dataset_params={'max_encoder_length': 3},\n",
       "                      trainer_params={'limit_train_batches': 10,\n",
       "                                      'max_epochs': 5})"
      ]
     },
     "execution_count": 69,
     "metadata": {},
     "output_type": "execute_result"
    }
   ],
   "source": [
    "model.fit(y=y_train, X=X_train, fh=fh)"
   ]
  },
  {
   "cell_type": "markdown",
   "metadata": {},
   "source": [
    "Now we can predict on `y_test` with `X_test`."
   ]
  },
  {
   "cell_type": "code",
   "execution_count": 70,
   "metadata": {},
   "outputs": [
    {
     "name": "stderr",
     "output_type": "stream",
     "text": [
      "GPU available: True (cuda), used: True\n",
      "TPU available: False, using: 0 TPU cores\n",
      "IPU available: False, using: 0 IPUs\n",
      "HPU available: False, using: 0 HPUs\n",
      "LOCAL_RANK: 0 - CUDA_VISIBLE_DEVICES: [0]\n"
     ]
    },
    {
     "data": {
      "text/html": [
       "<div>\n",
       "<style scoped>\n",
       "    .dataframe tbody tr th:only-of-type {\n",
       "        vertical-align: middle;\n",
       "    }\n",
       "\n",
       "    .dataframe tbody tr th {\n",
       "        vertical-align: top;\n",
       "    }\n",
       "\n",
       "    .dataframe thead th {\n",
       "        text-align: right;\n",
       "    }\n",
       "</style>\n",
       "<table border=\"1\" class=\"dataframe\">\n",
       "  <thead>\n",
       "    <tr style=\"text-align: right;\">\n",
       "      <th></th>\n",
       "      <th></th>\n",
       "      <th>c1</th>\n",
       "    </tr>\n",
       "    <tr>\n",
       "      <th>h0</th>\n",
       "      <th>time</th>\n",
       "      <th></th>\n",
       "    </tr>\n",
       "  </thead>\n",
       "  <tbody>\n",
       "    <tr>\n",
       "      <th rowspan=\"3\" valign=\"top\">h0_90</th>\n",
       "      <th>2000-01-08</th>\n",
       "      <td>4.362712</td>\n",
       "    </tr>\n",
       "    <tr>\n",
       "      <th>2000-01-09</th>\n",
       "      <td>3.989582</td>\n",
       "    </tr>\n",
       "    <tr>\n",
       "      <th>2000-01-10</th>\n",
       "      <td>4.582594</td>\n",
       "    </tr>\n",
       "    <tr>\n",
       "      <th rowspan=\"3\" valign=\"top\">h0_91</th>\n",
       "      <th>2000-01-08</th>\n",
       "      <td>4.210225</td>\n",
       "    </tr>\n",
       "    <tr>\n",
       "      <th>2000-01-09</th>\n",
       "      <td>4.588601</td>\n",
       "    </tr>\n",
       "    <tr>\n",
       "      <th>2000-01-10</th>\n",
       "      <td>4.620286</td>\n",
       "    </tr>\n",
       "    <tr>\n",
       "      <th rowspan=\"3\" valign=\"top\">h0_92</th>\n",
       "      <th>2000-01-08</th>\n",
       "      <td>4.383879</td>\n",
       "    </tr>\n",
       "    <tr>\n",
       "      <th>2000-01-09</th>\n",
       "      <td>4.285245</td>\n",
       "    </tr>\n",
       "    <tr>\n",
       "      <th>2000-01-10</th>\n",
       "      <td>4.648265</td>\n",
       "    </tr>\n",
       "    <tr>\n",
       "      <th rowspan=\"3\" valign=\"top\">h0_93</th>\n",
       "      <th>2000-01-08</th>\n",
       "      <td>4.338478</td>\n",
       "    </tr>\n",
       "    <tr>\n",
       "      <th>2000-01-09</th>\n",
       "      <td>3.951702</td>\n",
       "    </tr>\n",
       "    <tr>\n",
       "      <th>2000-01-10</th>\n",
       "      <td>4.400213</td>\n",
       "    </tr>\n",
       "    <tr>\n",
       "      <th rowspan=\"3\" valign=\"top\">h0_94</th>\n",
       "      <th>2000-01-08</th>\n",
       "      <td>4.240538</td>\n",
       "    </tr>\n",
       "    <tr>\n",
       "      <th>2000-01-09</th>\n",
       "      <td>4.610684</td>\n",
       "    </tr>\n",
       "    <tr>\n",
       "      <th>2000-01-10</th>\n",
       "      <td>3.930774</td>\n",
       "    </tr>\n",
       "    <tr>\n",
       "      <th rowspan=\"3\" valign=\"top\">h0_95</th>\n",
       "      <th>2000-01-08</th>\n",
       "      <td>4.445383</td>\n",
       "    </tr>\n",
       "    <tr>\n",
       "      <th>2000-01-09</th>\n",
       "      <td>4.213614</td>\n",
       "    </tr>\n",
       "    <tr>\n",
       "      <th>2000-01-10</th>\n",
       "      <td>4.249535</td>\n",
       "    </tr>\n",
       "    <tr>\n",
       "      <th rowspan=\"3\" valign=\"top\">h0_96</th>\n",
       "      <th>2000-01-08</th>\n",
       "      <td>4.417764</td>\n",
       "    </tr>\n",
       "    <tr>\n",
       "      <th>2000-01-09</th>\n",
       "      <td>4.239827</td>\n",
       "    </tr>\n",
       "    <tr>\n",
       "      <th>2000-01-10</th>\n",
       "      <td>4.052407</td>\n",
       "    </tr>\n",
       "    <tr>\n",
       "      <th rowspan=\"3\" valign=\"top\">h0_97</th>\n",
       "      <th>2000-01-08</th>\n",
       "      <td>4.421465</td>\n",
       "    </tr>\n",
       "    <tr>\n",
       "      <th>2000-01-09</th>\n",
       "      <td>4.506605</td>\n",
       "    </tr>\n",
       "    <tr>\n",
       "      <th>2000-01-10</th>\n",
       "      <td>4.647429</td>\n",
       "    </tr>\n",
       "    <tr>\n",
       "      <th rowspan=\"3\" valign=\"top\">h0_98</th>\n",
       "      <th>2000-01-08</th>\n",
       "      <td>4.281066</td>\n",
       "    </tr>\n",
       "    <tr>\n",
       "      <th>2000-01-09</th>\n",
       "      <td>4.615709</td>\n",
       "    </tr>\n",
       "    <tr>\n",
       "      <th>2000-01-10</th>\n",
       "      <td>4.622498</td>\n",
       "    </tr>\n",
       "    <tr>\n",
       "      <th rowspan=\"3\" valign=\"top\">h0_99</th>\n",
       "      <th>2000-01-08</th>\n",
       "      <td>4.421319</td>\n",
       "    </tr>\n",
       "    <tr>\n",
       "      <th>2000-01-09</th>\n",
       "      <td>4.345923</td>\n",
       "    </tr>\n",
       "    <tr>\n",
       "      <th>2000-01-10</th>\n",
       "      <td>4.336202</td>\n",
       "    </tr>\n",
       "  </tbody>\n",
       "</table>\n",
       "</div>"
      ],
      "text/plain": [
       "                        c1\n",
       "h0    time                \n",
       "h0_90 2000-01-08  4.362712\n",
       "      2000-01-09  3.989582\n",
       "      2000-01-10  4.582594\n",
       "h0_91 2000-01-08  4.210225\n",
       "      2000-01-09  4.588601\n",
       "      2000-01-10  4.620286\n",
       "h0_92 2000-01-08  4.383879\n",
       "      2000-01-09  4.285245\n",
       "      2000-01-10  4.648265\n",
       "h0_93 2000-01-08  4.338478\n",
       "      2000-01-09  3.951702\n",
       "      2000-01-10  4.400213\n",
       "h0_94 2000-01-08  4.240538\n",
       "      2000-01-09  4.610684\n",
       "      2000-01-10  3.930774\n",
       "h0_95 2000-01-08  4.445383\n",
       "      2000-01-09  4.213614\n",
       "      2000-01-10  4.249535\n",
       "h0_96 2000-01-08  4.417764\n",
       "      2000-01-09  4.239827\n",
       "      2000-01-10  4.052407\n",
       "h0_97 2000-01-08  4.421465\n",
       "      2000-01-09  4.506605\n",
       "      2000-01-10  4.647429\n",
       "h0_98 2000-01-08  4.281066\n",
       "      2000-01-09  4.615709\n",
       "      2000-01-10  4.622498\n",
       "h0_99 2000-01-08  4.421319\n",
       "      2000-01-09  4.345923\n",
       "      2000-01-10  4.336202"
      ]
     },
     "execution_count": 70,
     "metadata": {},
     "output_type": "execute_result"
    }
   ],
   "source": [
    "y_pred = model.predict(fh=fh, X=X_test, y=y_test)\n",
    "y_pred"
   ]
  },
  {
   "cell_type": "markdown",
   "metadata": {},
   "source": [
    "We can plot one series to see the result. As we are using random data and only train the model for a few epochs, we can not expect too much."
   ]
  },
  {
   "cell_type": "code",
   "execution_count": 71,
   "metadata": {},
   "outputs": [
    {
     "data": {
      "text/plain": [
       "(<Figure size 1600x400 with 1 Axes>, <Axes: ylabel='c1'>)"
      ]
     },
     "execution_count": 71,
     "metadata": {},
     "output_type": "execute_result"
    },
    {
     "data": {
      "image/png": "[encoded data removed]",
      "text/plain": [
       "<Figure size 1600x400 with 1 Axes>"
      ]
     },
     "metadata": {},
     "output_type": "display_data"
    }
   ],
   "source": [
    "plot_series(\n",
    "    y_test.loc[(\"h0_99\")],\n",
    "    y_pred.loc[(\"h0_99\")],\n",
    "    labels=[\"y\", \"y_pred\"],\n",
    ")"
   ]
  },
  {
   "cell_type": "code",
   "execution_count": null,
   "metadata": {},
   "outputs": [],
   "source": []
  }
 ],
 "metadata": {
  "kernelspec": {
   "display_name": "Python 3",
   "language": "python",
   "name": "python3"
  },
  "language_info": {
   "codemirror_mode": {
    "name": "ipython",
    "version": 3
   },
   "file_extension": ".py",
   "mimetype": "text/x-python",
   "name": "python",
   "nbconvert_exporter": "python",
   "pygments_lexer": "ipython3",
   "version": "3.10.14"
  }
 },
 "nbformat": 4,
 "nbformat_minor": 2
}
